{
 "cells": [
  {
   "cell_type": "code",
   "execution_count": 90,
   "metadata": {},
   "outputs": [],
   "source": [
    "a = ! ls gsm8k_outputs.r*.e-1.eval.jsonl.stats.csv\n",
    "b = ! ls gsm8k_outputs.r*.e0.05.eval.jsonl.stats.csv\n",
    "c = ! ls gsm8k_outputs.r*.e0.1.eval.jsonl.stats.csv\n"
   ]
  },
  {
   "cell_type": "code",
   "execution_count": 91,
   "metadata": {},
   "outputs": [
    {
     "data": {
      "text/plain": [
       "['gsm8k_outputs.r0.e-1.eval.jsonl.stats.csv',\n",
       " 'gsm8k_outputs.r1.e-1.eval.jsonl.stats.csv',\n",
       " 'gsm8k_outputs.r2.e-1.eval.jsonl.stats.csv',\n",
       " 'gsm8k_outputs.r3.e-1.eval.jsonl.stats.csv',\n",
       " 'gsm8k_outputs.r4.e-1.eval.jsonl.stats.csv',\n",
       " 'gsm8k_outputs.r5.e-1.eval.jsonl.stats.csv',\n",
       " 'gsm8k_outputs.r6.e-1.eval.jsonl.stats.csv',\n",
       " 'gsm8k_outputs.r7.e-1.eval.jsonl.stats.csv',\n",
       " 'gsm8k_outputs.r8.e-1.eval.jsonl.stats.csv',\n",
       " 'gsm8k_outputs.r9.e-1.eval.jsonl.stats.csv']"
      ]
     },
     "execution_count": 91,
     "metadata": {},
     "output_type": "execute_result"
    }
   ],
   "source": [
    "a"
   ]
  },
  {
   "cell_type": "code",
   "execution_count": 92,
   "metadata": {},
   "outputs": [
    {
     "data": {
      "text/plain": [
       "['gsm8k_outputs.r0.e0.05.eval.jsonl.stats.csv',\n",
       " 'gsm8k_outputs.r1.e0.05.eval.jsonl.stats.csv',\n",
       " 'gsm8k_outputs.r2.e0.05.eval.jsonl.stats.csv',\n",
       " 'gsm8k_outputs.r3.e0.05.eval.jsonl.stats.csv',\n",
       " 'gsm8k_outputs.r4.e0.05.eval.jsonl.stats.csv',\n",
       " 'gsm8k_outputs.r5.e0.05.eval.jsonl.stats.csv',\n",
       " 'gsm8k_outputs.r6.e0.05.eval.jsonl.stats.csv',\n",
       " 'gsm8k_outputs.r7.e0.05.eval.jsonl.stats.csv',\n",
       " 'gsm8k_outputs.r8.e0.05.eval.jsonl.stats.csv',\n",
       " 'gsm8k_outputs.r9.e0.05.eval.jsonl.stats.csv']"
      ]
     },
     "execution_count": 92,
     "metadata": {},
     "output_type": "execute_result"
    }
   ],
   "source": [
    "b"
   ]
  },
  {
   "cell_type": "code",
   "execution_count": 93,
   "metadata": {},
   "outputs": [
    {
     "data": {
      "text/plain": [
       "['gsm8k_outputs.r0.e0.1.eval.jsonl.stats.csv',\n",
       " 'gsm8k_outputs.r1.e0.1.eval.jsonl.stats.csv',\n",
       " 'gsm8k_outputs.r2.e0.1.eval.jsonl.stats.csv',\n",
       " 'gsm8k_outputs.r3.e0.1.eval.jsonl.stats.csv',\n",
       " 'gsm8k_outputs.r4.e0.1.eval.jsonl.stats.csv',\n",
       " 'gsm8k_outputs.r5.e0.1.eval.jsonl.stats.csv',\n",
       " 'gsm8k_outputs.r6.e0.1.eval.jsonl.stats.csv',\n",
       " 'gsm8k_outputs.r7.e0.1.eval.jsonl.stats.csv',\n",
       " 'gsm8k_outputs.r8.e0.1.eval.jsonl.stats.csv',\n",
       " 'gsm8k_outputs.r9.e0.1.eval.jsonl.stats.csv']"
      ]
     },
     "execution_count": 93,
     "metadata": {},
     "output_type": "execute_result"
    }
   ],
   "source": [
    "c"
   ]
  },
  {
   "cell_type": "code",
   "execution_count": 94,
   "metadata": {},
   "outputs": [
    {
     "name": "stdout",
     "output_type": "stream",
     "text": [
      "Category\tSetup\tSearch Algorithm\tSystem\tScheduling Algorithm\trun_id\tentropy_threshold\tAttempt\tPrompt Tokens\tOutput Tokens\tTotal Tokens\tCumulative Total Tokens\tAccuracy (%)\tCorrect\tTotal Questions\n",
      "A\tSelf Refine_Original System__run0_e0\tSelf Refine\tOriginal System\tentropy_threshold\t0\t0\t0\t4803258\t606950\t5410208\t5410208\t77.40712661106899\t1021\t1319\n",
      "A\tSelf Refine_Original System__run0_e0\tSelf Refine\tOriginal System\tentropy_threshold\t0\t0\t1\t2381534\t257507\t2639041\t8049249\t80.43972706595906\t1061\t1319\n",
      "A\tSelf Refine_Original System__run0_e0\tSelf Refine\tOriginal System\tentropy_threshold\t0\t0\t2\t2027769\t184941\t2212710\t10261959\t81.42532221379834\t1074\t1319\n",
      "A\tSelf Refine_Original System__run0_e0\tSelf Refine\tOriginal System\tentropy_threshold\t0\t0\t3\t1879336\t146959\t2026295\t12288254\t81.72858225928734\t1078\t1319\n",
      "A\tSelf Refine_Original System__run0_e0\tSelf Refine\tOriginal System\tentropy_threshold\t0\t0\t4\t1950781\t132377\t2083158\t14371412\t81.9560272934041\t1081\t1319\n",
      "A\tSelf Refine_Original System__run0_e0\tSelf Refine\tOriginal System\tentropy_threshold\t0\t0\t5\t2044027\t124720\t2168747\t16540159\t82.03184230477635\t1082\t1319\n",
      "A\tSelf Refine_Original System__run1_e0\tSelf Refine\tOriginal System\tentropy_threshold\t1\t0\t0\t4802787\t600657\t5403444\t5403444\t77.8620166793025\t1027\t1319\n",
      "A\tSelf Refine_Original System__run1_e0\tSelf Refine\tOriginal System\tentropy_threshold\t1\t0\t1\t2537191\t272251\t2809442\t8212886\t81.19787717968158\t1071\t1319\n",
      "A\tSelf Refine_Original System__run1_e0\tSelf Refine\tOriginal System\tentropy_threshold\t1\t0\t2\t2161653\t192451\t2354104\t10566990\t81.9560272934041\t1081\t1319\n",
      "A\tSelf Refine_Original System__run1_e0\tSelf Refine\tOriginal System\tentropy_threshold\t1\t0\t3\t2003369\t153783\t2157152\t12724142\t82.33510235026536\t1086\t1319\n",
      "A\tSelf Refine_Original System__run1_e0\tSelf Refine\tOriginal System\tentropy_threshold\t1\t0\t4\t1997713\t135025\t2132738\t14856880\t82.63836239575436\t1090\t1319\n",
      "A\tSelf Refine_Original System__run1_e0\tSelf Refine\tOriginal System\tentropy_threshold\t1\t0\t5\t2067411\t124278\t2191689\t17048569\t82.86580742987113\t1093\t1319\n",
      "A\tSelf Refine_Original System__run2_e0\tSelf Refine\tOriginal System\tentropy_threshold\t2\t0\t0\t4802650\t604933\t5407583\t5407583\t77.710386656558\t1025\t1319\n",
      "A\tSelf Refine_Original System__run2_e0\tSelf Refine\tOriginal System\tentropy_threshold\t2\t0\t1\t2458683\t259796\t2718479\t8126062\t80.3639120545868\t1060\t1319\n",
      "A\tSelf Refine_Original System__run2_e0\tSelf Refine\tOriginal System\tentropy_threshold\t2\t0\t2\t2210315\t199157\t2409472\t10535534\t81.27369219105383\t1072\t1319\n",
      "A\tSelf Refine_Original System__run2_e0\tSelf Refine\tOriginal System\tentropy_threshold\t2\t0\t3\t2180591\t165070\t2345661\t12881195\t81.88021228203183\t1080\t1319\n",
      "A\tSelf Refine_Original System__run2_e0\tSelf Refine\tOriginal System\tentropy_threshold\t2\t0\t4\t2138300\t144711\t2283011\t15164206\t82.10765731614859\t1083\t1319\n",
      "A\tSelf Refine_Original System__run2_e0\tSelf Refine\tOriginal System\tentropy_threshold\t2\t0\t5\t2239117\t133230\t2372347\t17536553\t82.18347232752085\t1084\t1319\n",
      "A\tSelf Refine_Original System__run3_e0\tSelf Refine\tOriginal System\tentropy_threshold\t3\t0\t0\t4803111\t608851\t5411962\t5411962\t77.8620166793025\t1027\t1319\n",
      "A\tSelf Refine_Original System__run3_e0\tSelf Refine\tOriginal System\tentropy_threshold\t3\t0\t1\t2399695\t256433\t2656128\t8068090\t80.89461713419257\t1067\t1319\n",
      "A\tSelf Refine_Original System__run3_e0\tSelf Refine\tOriginal System\tentropy_threshold\t3\t0\t2\t2077263\t184571\t2261834\t10329924\t81.6527672479151\t1077\t1319\n",
      "A\tSelf Refine_Original System__run3_e0\tSelf Refine\tOriginal System\tentropy_threshold\t3\t0\t3\t1992859\t148208\t2141067\t12470991\t82.03184230477635\t1082\t1319\n",
      "A\tSelf Refine_Original System__run3_e0\tSelf Refine\tOriginal System\tentropy_threshold\t3\t0\t4\t2019589\t135942\t2155531\t14626522\t82.2592873388931\t1085\t1319\n",
      "A\tSelf Refine_Original System__run3_e0\tSelf Refine\tOriginal System\tentropy_threshold\t3\t0\t5\t2104359\t120680\t2225039\t16851561\t82.48673237300986\t1088\t1319\n",
      "A\tSelf Refine_Original System__run4_e0\tSelf Refine\tOriginal System\tentropy_threshold\t4\t0\t0\t4803309\t606222\t5409531\t5409531\t78.16527672479151\t1031\t1319\n",
      "A\tSelf Refine_Original System__run4_e0\tSelf Refine\tOriginal System\tentropy_threshold\t4\t0\t1\t2432333\t257139\t2689472\t8099003\t81.12206216830933\t1070\t1319\n",
      "A\tSelf Refine_Original System__run4_e0\tSelf Refine\tOriginal System\tentropy_threshold\t4\t0\t2\t2057393\t182407\t2239800\t10338803\t81.9560272934041\t1081\t1319\n",
      "A\tSelf Refine_Original System__run4_e0\tSelf Refine\tOriginal System\tentropy_threshold\t4\t0\t3\t1943912\t146985\t2090897\t12429700\t82.10765731614859\t1083\t1319\n",
      "A\tSelf Refine_Original System__run4_e0\tSelf Refine\tOriginal System\tentropy_threshold\t4\t0\t4\t1963489\t129295\t2092784\t14522484\t82.33510235026536\t1086\t1319\n",
      "A\tSelf Refine_Original System__run4_e0\tSelf Refine\tOriginal System\tentropy_threshold\t4\t0\t5\t1992985\t116061\t2109046\t16631530\t82.4109173616376\t1087\t1319\n",
      "A\tSelf Refine_Original System__run5_e0\tSelf Refine\tOriginal System\tentropy_threshold\t5\t0\t0\t4802950\t604295\t5407245\t5407245\t77.8620166793025\t1027\t1319\n",
      "A\tSelf Refine_Original System__run5_e0\tSelf Refine\tOriginal System\tentropy_threshold\t5\t0\t1\t2440693\t257424\t2698117\t8105362\t80.66717210007582\t1064\t1319\n",
      "A\tSelf Refine_Original System__run5_e0\tSelf Refine\tOriginal System\tentropy_threshold\t5\t0\t2\t2098778\t183962\t2282740\t10388102\t82.18347232752085\t1084\t1319\n",
      "A\tSelf Refine_Original System__run5_e0\tSelf Refine\tOriginal System\tentropy_threshold\t5\t0\t3\t2019833\t149996\t2169829\t12557931\t82.48673237300986\t1088\t1319\n",
      "A\tSelf Refine_Original System__run5_e0\tSelf Refine\tOriginal System\tentropy_threshold\t5\t0\t4\t1977673\t129360\t2107033\t14664964\t82.56254738438211\t1089\t1319\n",
      "A\tSelf Refine_Original System__run5_e0\tSelf Refine\tOriginal System\tentropy_threshold\t5\t0\t5\t2061664\t116494\t2178158\t16843122\t82.78999241849885\t1092\t1319\n",
      "A\tSelf Refine_Original System__run6_e0\tSelf Refine\tOriginal System\tentropy_threshold\t6\t0\t0\t4803032\t604187\t5407219\t5407219\t78.013646702047\t1029\t1319\n",
      "A\tSelf Refine_Original System__run6_e0\tSelf Refine\tOriginal System\tentropy_threshold\t6\t0\t1\t2460543\t262685\t2723228\t8130447\t81.72858225928734\t1078\t1319\n",
      "A\tSelf Refine_Original System__run6_e0\tSelf Refine\tOriginal System\tentropy_threshold\t6\t0\t2\t2159314\t190452\t2349766\t10480213\t82.33510235026536\t1086\t1319\n",
      "A\tSelf Refine_Original System__run6_e0\tSelf Refine\tOriginal System\tentropy_threshold\t6\t0\t3\t2113786\t160330\t2274116\t12754329\t82.71417740712661\t1091\t1319\n",
      "A\tSelf Refine_Original System__run6_e0\tSelf Refine\tOriginal System\tentropy_threshold\t6\t0\t4\t2086316\t136229\t2222545\t14976874\t82.78999241849885\t1092\t1319\n",
      "A\tSelf Refine_Original System__run6_e0\tSelf Refine\tOriginal System\tentropy_threshold\t6\t0\t5\t2102391\t123078\t2225469\t17202343\t82.94162244124337\t1094\t1319\n",
      "A\tSelf Refine_Original System__run7_e0\tSelf Refine\tOriginal System\tentropy_threshold\t7\t0\t0\t4802769\t602994\t5405763\t5405763\t78.24109173616375\t1032\t1319\n",
      "A\tSelf Refine_Original System__run7_e0\tSelf Refine\tOriginal System\tentropy_threshold\t7\t0\t1\t2528719\t268393\t2797112\t8202875\t81.80439727065959\t1079\t1319\n",
      "A\tSelf Refine_Original System__run7_e0\tSelf Refine\tOriginal System\tentropy_threshold\t7\t0\t2\t2163832\t190012\t2353844\t10556719\t82.56254738438211\t1089\t1319\n",
      "A\tSelf Refine_Original System__run7_e0\tSelf Refine\tOriginal System\tentropy_threshold\t7\t0\t3\t2055175\t154682\t2209857\t12766576\t82.86580742987113\t1093\t1319\n",
      "A\tSelf Refine_Original System__run7_e0\tSelf Refine\tOriginal System\tentropy_threshold\t7\t0\t4\t2069016\t135210\t2204226\t14970802\t82.94162244124337\t1094\t1319\n",
      "A\tSelf Refine_Original System__run7_e0\tSelf Refine\tOriginal System\tentropy_threshold\t7\t0\t5\t2076254\t121673\t2197927\t17168729\t83.09325246398787\t1096\t1319\n",
      "A\tSelf Refine_Original System__run8_e0\tSelf Refine\tOriginal System\tentropy_threshold\t8\t0\t0\t4802449\t604202\t5406651\t5406651\t77.93783169067476\t1028\t1319\n",
      "A\tSelf Refine_Original System__run8_e0\tSelf Refine\tOriginal System\tentropy_threshold\t8\t0\t1\t2550299\t273469\t2823768\t8230419\t81.6527672479151\t1077\t1319\n",
      "A\tSelf Refine_Original System__run8_e0\tSelf Refine\tOriginal System\tentropy_threshold\t8\t0\t2\t2204400\t197158\t2401558\t10631977\t82.63836239575436\t1090\t1319\n",
      "A\tSelf Refine_Original System__run8_e0\tSelf Refine\tOriginal System\tentropy_threshold\t8\t0\t3\t2114184\t163737\t2277921\t12909898\t82.94162244124337\t1094\t1319\n",
      "A\tSelf Refine_Original System__run8_e0\tSelf Refine\tOriginal System\tentropy_threshold\t8\t0\t4\t2098711\t137735\t2236446\t15146344\t83.09325246398787\t1096\t1319\n",
      "A\tSelf Refine_Original System__run8_e0\tSelf Refine\tOriginal System\tentropy_threshold\t8\t0\t5\t2191085\t128943\t2320028\t17466372\t83.32069749810462\t1099\t1319\n",
      "A\tSelf Refine_Original System__run9_e0\tSelf Refine\tOriginal System\tentropy_threshold\t9\t0\t0\t4803005\t603109\t5406114\t5406114\t78.08946171341927\t1030\t1319\n",
      "A\tSelf Refine_Original System__run9_e0\tSelf Refine\tOriginal System\tentropy_threshold\t9\t0\t1\t2487710\t263470\t2751180\t8157294\t80.89461713419257\t1067\t1319\n",
      "A\tSelf Refine_Original System__run9_e0\tSelf Refine\tOriginal System\tentropy_threshold\t9\t0\t2\t2098087\t185448\t2283535\t10440829\t81.88021228203183\t1080\t1319\n",
      "A\tSelf Refine_Original System__run9_e0\tSelf Refine\tOriginal System\tentropy_threshold\t9\t0\t3\t1957968\t147361\t2105329\t12546158\t82.56254738438211\t1089\t1319\n",
      "A\tSelf Refine_Original System__run9_e0\tSelf Refine\tOriginal System\tentropy_threshold\t9\t0\t4\t1972812\t127782\t2100594\t14646752\t82.78999241849885\t1092\t1319\n",
      "A\tSelf Refine_Original System__run9_e0\tSelf Refine\tOriginal System\tentropy_threshold\t9\t0\t5\t2061263\t118612\t2179875\t16826627\t82.94162244124337\t1094\t1319\n",
      "\n"
     ]
    }
   ],
   "source": [
    "import pandas as pd\n",
    "\n",
    "# i = 0\n",
    "dfs = []\n",
    "entropy = 0\n",
    "\n",
    "search_algorithm = \"Self Refine\"\n",
    "system = \"Original System\"\n",
    "category = \"A\"\n",
    "\n",
    "\n",
    "for i in range(len(a)):\n",
    "    df = pd.read_csv(a[i])\n",
    "    \n",
    "    df['run_id'] = i\n",
    "    df['entropy_threshold'] = entropy\n",
    "    df['Search Algorithm'] = search_algorithm\n",
    "    df['System'] = system\n",
    "    df['Category'] = category\n",
    "    df['Scheduling Algorithm'] = \"entropy_threshold\"\n",
    "    df['Setup'] = f'{search_algorithm}_{system}__run{i}_e{entropy}'\n",
    "    df['Accuracy (%)'] = df['Accuracy'].apply(lambda x: x * 100)\n",
    "    df['Correct'] = df['Correct Questions']\n",
    "    # df['Correct'] = df['Total Questions']\n",
    "\n",
    "    df = df[[\n",
    "        'Category', 'Setup', 'Search Algorithm', 'System', 'Scheduling Algorithm',\n",
    "        'run_id', 'entropy_threshold', \n",
    "        'Attempt', 'Prompt Tokens', 'Output Tokens', 'Total Tokens',\n",
    "        'Cumulative Total Tokens', 'Accuracy (%)', 'Correct', 'Total Questions',\n",
    "    ]]\n",
    "    dfs.append(df)\n",
    "\n",
    "    concat_df = pd.concat(dfs)\n",
    "\n",
    "concat_df.reset_index(drop=True, inplace=True)\n",
    "print(concat_df.to_csv(index=False, sep='\\t'))\n",
    "\n",
    "setting_a = concat_df"
   ]
  },
  {
   "cell_type": "code",
   "execution_count": null,
   "metadata": {},
   "outputs": [],
   "source": []
  },
  {
   "cell_type": "code",
   "execution_count": 95,
   "metadata": {},
   "outputs": [
    {
     "name": "stdout",
     "output_type": "stream",
     "text": [
      "Category\tSetup\tSearch Algorithm\tSystem\tScheduling Algorithm\trun_id\tentropy_threshold\tAttempt\tPrompt Tokens\tOutput Tokens\tTotal Tokens\tCumulative Total Tokens\tAccuracy (%)\tCorrect\tTotal Questions\n",
      "B\tSelf Refine_Original System__run0_e0.05\tSelf Refine\tOriginal System\tentropy_threshold\t0\t0.05\t0\t4803049\t606659\t5409708\t5409708\t77.78620166793026\t1026\t1319\n",
      "B\tSelf Refine_Original System__run0_e0.05\tSelf Refine\tOriginal System\tentropy_threshold\t0\t0.05\t1\t2485426\t266621\t2752047\t8161755\t80.89461713419257\t1067\t1319\n",
      "B\tSelf Refine_Original System__run0_e0.05\tSelf Refine\tOriginal System\tentropy_threshold\t0\t0.05\t2\t2152262\t192057\t2344319\t10506074\t81.57695223654284\t1076\t1319\n",
      "B\tSelf Refine_Original System__run0_e0.05\tSelf Refine\tOriginal System\tentropy_threshold\t0\t0.05\t3\t2021703\t153858\t2175561\t12681635\t81.80439727065959\t1079\t1319\n",
      "B\tSelf Refine_Original System__run0_e0.05\tSelf Refine\tOriginal System\tentropy_threshold\t0\t0.05\t4\t2106437\t140470\t2246907\t14928542\t82.03184230477635\t1082\t1319\n",
      "B\tSelf Refine_Original System__run0_e0.05\tSelf Refine\tOriginal System\tentropy_threshold\t0\t0.05\t5\t2180765\t129079\t2309844\t17238386\t82.03184230477635\t1082\t1319\n",
      "B\tSelf Refine_Original System__run1_e0.05\tSelf Refine\tOriginal System\tentropy_threshold\t1\t0.05\t0\t4802800\t598023\t5400823\t5400823\t78.08946171341927\t1030\t1319\n",
      "B\tSelf Refine_Original System__run1_e0.05\tSelf Refine\tOriginal System\tentropy_threshold\t1\t0.05\t1\t2504116\t266814\t2770930\t8171753\t80.74298711144806\t1065\t1319\n",
      "B\tSelf Refine_Original System__run1_e0.05\tSelf Refine\tOriginal System\tentropy_threshold\t1\t0.05\t2\t2130753\t190859\t2321612\t10493365\t81.6527672479151\t1077\t1319\n",
      "B\tSelf Refine_Original System__run1_e0.05\tSelf Refine\tOriginal System\tentropy_threshold\t1\t0.05\t3\t2011649\t154657\t2166306\t12659671\t82.2592873388931\t1085\t1319\n",
      "B\tSelf Refine_Original System__run1_e0.05\tSelf Refine\tOriginal System\tentropy_threshold\t1\t0.05\t4\t2021955\t139551\t2161506\t14821177\t82.63836239575436\t1090\t1319\n",
      "B\tSelf Refine_Original System__run1_e0.05\tSelf Refine\tOriginal System\tentropy_threshold\t1\t0.05\t5\t2085416\t124299\t2209715\t17030892\t82.71417740712661\t1091\t1319\n",
      "B\tSelf Refine_Original System__run2_e0.05\tSelf Refine\tOriginal System\tentropy_threshold\t2\t0.05\t0\t4803154\t601979\t5405133\t5405133\t78.46853677028052\t1035\t1319\n",
      "B\tSelf Refine_Original System__run2_e0.05\tSelf Refine\tOriginal System\tentropy_threshold\t2\t0.05\t1\t2514595\t267311\t2781906\t8187039\t82.10765731614859\t1083\t1319\n",
      "B\tSelf Refine_Original System__run2_e0.05\tSelf Refine\tOriginal System\tentropy_threshold\t2\t0.05\t2\t2130236\t189292\t2319528\t10506567\t82.78999241849885\t1092\t1319\n",
      "B\tSelf Refine_Original System__run2_e0.05\tSelf Refine\tOriginal System\tentropy_threshold\t2\t0.05\t3\t2003008\t151791\t2154799\t12661366\t83.01743745261561\t1095\t1319\n",
      "B\tSelf Refine_Original System__run2_e0.05\tSelf Refine\tOriginal System\tentropy_threshold\t2\t0.05\t4\t2004267\t132318\t2136585\t14797951\t83.09325246398787\t1096\t1319\n",
      "B\tSelf Refine_Original System__run2_e0.05\tSelf Refine\tOriginal System\tentropy_threshold\t2\t0.05\t5\t2051943\t122535\t2174478\t16972429\t83.24488248673238\t1098\t1319\n",
      "B\tSelf Refine_Original System__run3_e0.05\tSelf Refine\tOriginal System\tentropy_threshold\t3\t0.05\t0\t4803046\t609812\t5412858\t5412858\t77.710386656558\t1025\t1319\n",
      "B\tSelf Refine_Original System__run3_e0.05\tSelf Refine\tOriginal System\tentropy_threshold\t3\t0.05\t1\t2547228\t275919\t2823147\t8236005\t81.27369219105383\t1072\t1319\n",
      "B\tSelf Refine_Original System__run3_e0.05\tSelf Refine\tOriginal System\tentropy_threshold\t3\t0.05\t2\t2279294\t200904\t2480198\t10716203\t82.56254738438211\t1089\t1319\n",
      "B\tSelf Refine_Original System__run3_e0.05\tSelf Refine\tOriginal System\tentropy_threshold\t3\t0.05\t3\t2198981\t166788\t2365769\t13081972\t83.09325246398787\t1096\t1319\n",
      "B\tSelf Refine_Original System__run3_e0.05\tSelf Refine\tOriginal System\tentropy_threshold\t3\t0.05\t4\t2190145\t144439\t2334584\t15416556\t83.32069749810462\t1099\t1319\n",
      "B\tSelf Refine_Original System__run3_e0.05\tSelf Refine\tOriginal System\tentropy_threshold\t3\t0.05\t5\t2199995\t131192\t2331187\t17747743\t83.39651250947688\t1100\t1319\n",
      "B\tSelf Refine_Original System__run4_e0.05\tSelf Refine\tOriginal System\tentropy_threshold\t4\t0.05\t0\t4802822\t603391\t5406213\t5406213\t78.16527672479151\t1031\t1319\n",
      "B\tSelf Refine_Original System__run4_e0.05\tSelf Refine\tOriginal System\tentropy_threshold\t4\t0.05\t1\t2449444\t261468\t2710912\t8117125\t81.27369219105383\t1072\t1319\n",
      "B\tSelf Refine_Original System__run4_e0.05\tSelf Refine\tOriginal System\tentropy_threshold\t4\t0.05\t2\t2106630\t190738\t2297368\t10414493\t82.33510235026536\t1086\t1319\n",
      "B\tSelf Refine_Original System__run4_e0.05\tSelf Refine\tOriginal System\tentropy_threshold\t4\t0.05\t3\t2062768\t159300\t2222068\t12636561\t82.71417740712661\t1091\t1319\n",
      "B\tSelf Refine_Original System__run4_e0.05\tSelf Refine\tOriginal System\tentropy_threshold\t4\t0.05\t4\t2118924\t144083\t2263007\t14899568\t82.78999241849885\t1092\t1319\n",
      "B\tSelf Refine_Original System__run4_e0.05\tSelf Refine\tOriginal System\tentropy_threshold\t4\t0.05\t5\t2177277\t134769\t2312046\t17211614\t82.86580742987113\t1093\t1319\n",
      "B\tSelf Refine_Original System__run5_e0.05\tSelf Refine\tOriginal System\tentropy_threshold\t5\t0.05\t0\t4802687\t603658\t5406345\t5406345\t77.40712661106899\t1021\t1319\n",
      "B\tSelf Refine_Original System__run5_e0.05\tSelf Refine\tOriginal System\tentropy_threshold\t5\t0.05\t1\t2574560\t275803\t2850363\t8256708\t81.12206216830933\t1070\t1319\n",
      "B\tSelf Refine_Original System__run5_e0.05\tSelf Refine\tOriginal System\tentropy_threshold\t5\t0.05\t2\t2195532\t195762\t2391294\t10648002\t81.88021228203183\t1080\t1319\n",
      "B\tSelf Refine_Original System__run5_e0.05\tSelf Refine\tOriginal System\tentropy_threshold\t5\t0.05\t3\t2080482\t157431\t2237913\t12885915\t82.33510235026536\t1086\t1319\n",
      "B\tSelf Refine_Original System__run5_e0.05\tSelf Refine\tOriginal System\tentropy_threshold\t5\t0.05\t4\t2078487\t138315\t2216802\t15102717\t82.48673237300986\t1088\t1319\n",
      "B\tSelf Refine_Original System__run5_e0.05\tSelf Refine\tOriginal System\tentropy_threshold\t5\t0.05\t5\t2144280\t122311\t2266591\t17369308\t82.48673237300986\t1088\t1319\n",
      "B\tSelf Refine_Original System__run6_e0.05\tSelf Refine\tOriginal System\tentropy_threshold\t6\t0.05\t0\t4802686\t600122\t5402808\t5402808\t77.48294162244125\t1022\t1319\n",
      "B\tSelf Refine_Original System__run6_e0.05\tSelf Refine\tOriginal System\tentropy_threshold\t6\t0.05\t1\t2579886\t273015\t2852901\t8255709\t80.51554207733132\t1062\t1319\n",
      "B\tSelf Refine_Original System__run6_e0.05\tSelf Refine\tOriginal System\tentropy_threshold\t6\t0.05\t2\t2205443\t197363\t2402806\t10658515\t81.27369219105383\t1072\t1319\n",
      "B\tSelf Refine_Original System__run6_e0.05\tSelf Refine\tOriginal System\tentropy_threshold\t6\t0.05\t3\t2079317\t157070\t2236387\t12894902\t81.57695223654284\t1076\t1319\n",
      "B\tSelf Refine_Original System__run6_e0.05\tSelf Refine\tOriginal System\tentropy_threshold\t6\t0.05\t4\t2095661\t137484\t2233145\t15128047\t81.72858225928734\t1078\t1319\n",
      "B\tSelf Refine_Original System__run6_e0.05\tSelf Refine\tOriginal System\tentropy_threshold\t6\t0.05\t5\t2170857\t129816\t2300673\t17428720\t81.80439727065959\t1079\t1319\n",
      "B\tSelf Refine_Original System__run7_e0.05\tSelf Refine\tOriginal System\tentropy_threshold\t7\t0.05\t0\t4803003\t603352\t5406355\t5406355\t77.8620166793025\t1027\t1319\n",
      "B\tSelf Refine_Original System__run7_e0.05\tSelf Refine\tOriginal System\tentropy_threshold\t7\t0.05\t1\t2480622\t264315\t2744937\t8151292\t80.97043214556481\t1068\t1319\n",
      "B\tSelf Refine_Original System__run7_e0.05\tSelf Refine\tOriginal System\tentropy_threshold\t7\t0.05\t2\t2218371\t197109\t2415480\t10566772\t82.2592873388931\t1085\t1319\n",
      "B\tSelf Refine_Original System__run7_e0.05\tSelf Refine\tOriginal System\tentropy_threshold\t7\t0.05\t3\t2071659\t157278\t2228937\t12795709\t82.78999241849885\t1092\t1319\n",
      "B\tSelf Refine_Original System__run7_e0.05\tSelf Refine\tOriginal System\tentropy_threshold\t7\t0.05\t4\t2089290\t138580\t2227870\t15023579\t82.86580742987113\t1093\t1319\n",
      "B\tSelf Refine_Original System__run7_e0.05\tSelf Refine\tOriginal System\tentropy_threshold\t7\t0.05\t5\t2110700\t121826\t2232526\t17256105\t82.86580742987113\t1093\t1319\n",
      "B\tSelf Refine_Original System__run8_e0.05\tSelf Refine\tOriginal System\tentropy_threshold\t8\t0.05\t0\t4802872\t608747\t5411619\t5411619\t77.48294162244125\t1022\t1319\n",
      "B\tSelf Refine_Original System__run8_e0.05\tSelf Refine\tOriginal System\tentropy_threshold\t8\t0.05\t1\t2609579\t276014\t2885593\t8297212\t80.81880212282032\t1066\t1319\n",
      "B\tSelf Refine_Original System__run8_e0.05\tSelf Refine\tOriginal System\tentropy_threshold\t8\t0.05\t2\t2301385\t202229\t2503614\t10800826\t81.57695223654284\t1076\t1319\n",
      "B\tSelf Refine_Original System__run8_e0.05\tSelf Refine\tOriginal System\tentropy_threshold\t8\t0.05\t3\t2215032\t164220\t2379252\t13180078\t81.80439727065959\t1079\t1319\n",
      "B\tSelf Refine_Original System__run8_e0.05\tSelf Refine\tOriginal System\tentropy_threshold\t8\t0.05\t4\t2196981\t145949\t2342930\t15523008\t82.03184230477635\t1082\t1319\n",
      "B\tSelf Refine_Original System__run8_e0.05\tSelf Refine\tOriginal System\tentropy_threshold\t8\t0.05\t5\t2262010\t130925\t2392935\t17915943\t82.03184230477635\t1082\t1319\n",
      "B\tSelf Refine_Original System__run9_e0.05\tSelf Refine\tOriginal System\tentropy_threshold\t9\t0.05\t0\t4803090\t602639\t5405729\t5405729\t78.013646702047\t1029\t1319\n",
      "B\tSelf Refine_Original System__run9_e0.05\tSelf Refine\tOriginal System\tentropy_threshold\t9\t0.05\t1\t2477342\t263843\t2741185\t8146914\t80.74298711144806\t1065\t1319\n",
      "B\tSelf Refine_Original System__run9_e0.05\tSelf Refine\tOriginal System\tentropy_threshold\t9\t0.05\t2\t2113334\t189187\t2302521\t10449435\t81.72858225928734\t1078\t1319\n",
      "B\tSelf Refine_Original System__run9_e0.05\tSelf Refine\tOriginal System\tentropy_threshold\t9\t0.05\t3\t2046479\t155186\t2201665\t12651100\t82.18347232752085\t1084\t1319\n",
      "B\tSelf Refine_Original System__run9_e0.05\tSelf Refine\tOriginal System\tentropy_threshold\t9\t0.05\t4\t2016645\t129635\t2146280\t14797380\t82.2592873388931\t1085\t1319\n",
      "B\tSelf Refine_Original System__run9_e0.05\tSelf Refine\tOriginal System\tentropy_threshold\t9\t0.05\t5\t2037778\t117673\t2155451\t16952831\t82.2592873388931\t1085\t1319\n",
      "\n"
     ]
    }
   ],
   "source": [
    "import pandas as pd\n",
    "\n",
    "# i = 0\n",
    "dfs = []\n",
    "entropy = 0.05\n",
    "\n",
    "search_algorithm = \"Self Refine\"\n",
    "system = \"Original System\"\n",
    "category = \"B\"\n",
    "\n",
    "for i in range(len(b)):\n",
    "    df = pd.read_csv(b[i])\n",
    "    \n",
    "    df['run_id'] = i\n",
    "    df['entropy_threshold'] = entropy\n",
    "    df['Search Algorithm'] = search_algorithm\n",
    "    df['System'] = system\n",
    "    df['Category'] = category\n",
    "    df['Scheduling Algorithm'] = \"entropy_threshold\"\n",
    "    df['Setup'] = f'{search_algorithm}_{system}__run{i}_e{entropy}'\n",
    "    df['Accuracy (%)'] = df['Accuracy'].apply(lambda x: x * 100)\n",
    "    df['Correct'] = df['Correct Questions']\n",
    "    # df['Correct'] = df['Total Questions']\n",
    "\n",
    "    df = df[[\n",
    "        'Category', 'Setup', 'Search Algorithm', 'System', 'Scheduling Algorithm',\n",
    "        'run_id', 'entropy_threshold', \n",
    "        'Attempt', 'Prompt Tokens', 'Output Tokens', 'Total Tokens',\n",
    "        'Cumulative Total Tokens', 'Accuracy (%)', 'Correct', 'Total Questions',\n",
    "    ]]\n",
    "    dfs.append(df)\n",
    "\n",
    "    concat_df = pd.concat(dfs)\n",
    "\n",
    "concat_df.reset_index(drop=True, inplace=True)\n",
    "print(concat_df.to_csv(index=False, sep='\\t'))\n",
    "\n",
    "setting_b = concat_df\n"
   ]
  },
  {
   "cell_type": "code",
   "execution_count": null,
   "metadata": {},
   "outputs": [],
   "source": []
  },
  {
   "cell_type": "code",
   "execution_count": 96,
   "metadata": {},
   "outputs": [
    {
     "name": "stdout",
     "output_type": "stream",
     "text": [
      "Category\tSetup\tSearch Algorithm\tSystem\tScheduling Algorithm\trun_id\tentropy_threshold\tAttempt\tPrompt Tokens\tOutput Tokens\tTotal Tokens\tCumulative Total Tokens\tAccuracy (%)\tCorrect\tTotal Questions\n",
      "B2\tSelf Refine_Original System__run0_e0.1\tSelf Refine\tOriginal System\tentropy_threshold\t0\t0.1\t0\t4802939\t605745\t5408684\t5408684\t77.93783169067476\t1028\t1319\n",
      "B2\tSelf Refine_Original System__run0_e0.1\tSelf Refine\tOriginal System\tentropy_threshold\t0\t0.1\t1\t2549126\t274659\t2823785\t8232469\t80.51554207733132\t1062\t1319\n",
      "B2\tSelf Refine_Original System__run0_e0.1\tSelf Refine\tOriginal System\tentropy_threshold\t0\t0.1\t2\t2225264\t199421\t2424685\t10657154\t81.27369219105383\t1072\t1319\n",
      "B2\tSelf Refine_Original System__run0_e0.1\tSelf Refine\tOriginal System\tentropy_threshold\t0\t0.1\t3\t2089998\t155772\t2245770\t12902924\t81.6527672479151\t1077\t1319\n",
      "B2\tSelf Refine_Original System__run0_e0.1\tSelf Refine\tOriginal System\tentropy_threshold\t0\t0.1\t4\t2176058\t140976\t2317034\t15219958\t81.80439727065959\t1079\t1319\n",
      "B2\tSelf Refine_Original System__run0_e0.1\tSelf Refine\tOriginal System\tentropy_threshold\t0\t0.1\t5\t2210148\t125570\t2335718\t17555676\t81.80439727065959\t1079\t1319\n",
      "B2\tSelf Refine_Original System__run1_e0.1\tSelf Refine\tOriginal System\tentropy_threshold\t1\t0.1\t0\t4802662\t600460\t5403122\t5403122\t77.63457164518574\t1024\t1319\n",
      "B2\tSelf Refine_Original System__run1_e0.1\tSelf Refine\tOriginal System\tentropy_threshold\t1\t0.1\t1\t2481338\t260721\t2742059\t8145181\t81.34950720242608\t1073\t1319\n",
      "B2\tSelf Refine_Original System__run1_e0.1\tSelf Refine\tOriginal System\tentropy_threshold\t1\t0.1\t2\t2111376\t188394\t2299770\t10444951\t82.4109173616376\t1087\t1319\n",
      "B2\tSelf Refine_Original System__run1_e0.1\tSelf Refine\tOriginal System\tentropy_threshold\t1\t0.1\t3\t1984581\t154321\t2138902\t12583853\t82.94162244124337\t1094\t1319\n",
      "B2\tSelf Refine_Original System__run1_e0.1\tSelf Refine\tOriginal System\tentropy_threshold\t1\t0.1\t4\t1937079\t122306\t2059385\t14643238\t83.01743745261561\t1095\t1319\n",
      "B2\tSelf Refine_Original System__run1_e0.1\tSelf Refine\tOriginal System\tentropy_threshold\t1\t0.1\t5\t1932912\t111950\t2044862\t16688100\t83.01743745261561\t1095\t1319\n",
      "B2\tSelf Refine_Original System__run2_e0.1\tSelf Refine\tOriginal System\tentropy_threshold\t2\t0.1\t0\t4803067\t610701\t5413768\t5413768\t78.24109173616375\t1032\t1319\n",
      "B2\tSelf Refine_Original System__run2_e0.1\tSelf Refine\tOriginal System\tentropy_threshold\t2\t0.1\t1\t2481586\t271369\t2752955\t8166723\t81.34950720242608\t1073\t1319\n",
      "B2\tSelf Refine_Original System__run2_e0.1\tSelf Refine\tOriginal System\tentropy_threshold\t2\t0.1\t2\t2116380\t188670\t2305050\t10471773\t81.80439727065959\t1079\t1319\n",
      "B2\tSelf Refine_Original System__run2_e0.1\tSelf Refine\tOriginal System\tentropy_threshold\t2\t0.1\t3\t2013875\t149730\t2163605\t12635378\t82.10765731614859\t1083\t1319\n",
      "B2\tSelf Refine_Original System__run2_e0.1\tSelf Refine\tOriginal System\tentropy_threshold\t2\t0.1\t4\t1975139\t130391\t2105530\t14740908\t82.2592873388931\t1085\t1319\n",
      "B2\tSelf Refine_Original System__run2_e0.1\tSelf Refine\tOriginal System\tentropy_threshold\t2\t0.1\t5\t2008513\t121127\t2129640\t16870548\t82.2592873388931\t1085\t1319\n",
      "B2\tSelf Refine_Original System__run3_e0.1\tSelf Refine\tOriginal System\tentropy_threshold\t3\t0.1\t0\t4802805\t603442\t5406247\t5406247\t78.16527672479151\t1031\t1319\n",
      "B2\tSelf Refine_Original System__run3_e0.1\tSelf Refine\tOriginal System\tentropy_threshold\t3\t0.1\t1\t2518041\t268848\t2786889\t8193136\t81.6527672479151\t1077\t1319\n",
      "B2\tSelf Refine_Original System__run3_e0.1\tSelf Refine\tOriginal System\tentropy_threshold\t3\t0.1\t2\t2269908\t200957\t2470865\t10664001\t82.4109173616376\t1087\t1319\n",
      "B2\tSelf Refine_Original System__run3_e0.1\tSelf Refine\tOriginal System\tentropy_threshold\t3\t0.1\t3\t2121446\t160074\t2281520\t12945521\t82.56254738438211\t1089\t1319\n",
      "B2\tSelf Refine_Original System__run3_e0.1\tSelf Refine\tOriginal System\tentropy_threshold\t3\t0.1\t4\t2109437\t137091\t2246528\t15192049\t82.63836239575436\t1090\t1319\n",
      "B2\tSelf Refine_Original System__run3_e0.1\tSelf Refine\tOriginal System\tentropy_threshold\t3\t0.1\t5\t2172801\t126020\t2298821\t17490870\t82.71417740712661\t1091\t1319\n",
      "B2\tSelf Refine_Original System__run4_e0.1\tSelf Refine\tOriginal System\tentropy_threshold\t4\t0.1\t0\t4803405\t602623\t5406028\t5406028\t77.63457164518574\t1024\t1319\n",
      "B2\tSelf Refine_Original System__run4_e0.1\tSelf Refine\tOriginal System\tentropy_threshold\t4\t0.1\t1\t2539061\t273934\t2812995\t8219023\t80.51554207733132\t1062\t1319\n",
      "B2\tSelf Refine_Original System__run4_e0.1\tSelf Refine\tOriginal System\tentropy_threshold\t4\t0.1\t2\t2169838\t196035\t2365873\t10584896\t81.6527672479151\t1077\t1319\n",
      "B2\tSelf Refine_Original System__run4_e0.1\tSelf Refine\tOriginal System\tentropy_threshold\t4\t0.1\t3\t2065234\t155857\t2221091\t12805987\t82.10765731614859\t1083\t1319\n",
      "B2\tSelf Refine_Original System__run4_e0.1\tSelf Refine\tOriginal System\tentropy_threshold\t4\t0.1\t4\t2039156\t138365\t2177521\t14983508\t82.2592873388931\t1085\t1319\n",
      "B2\tSelf Refine_Original System__run4_e0.1\tSelf Refine\tOriginal System\tentropy_threshold\t4\t0.1\t5\t2105169\t124897\t2230066\t17213574\t82.2592873388931\t1085\t1319\n",
      "B2\tSelf Refine_Original System__run5_e0.1\tSelf Refine\tOriginal System\tentropy_threshold\t5\t0.1\t0\t4802793\t600414\t5403207\t5403207\t77.93783169067476\t1028\t1319\n",
      "B2\tSelf Refine_Original System__run5_e0.1\tSelf Refine\tOriginal System\tentropy_threshold\t5\t0.1\t1\t2505523\t265711\t2771234\t8174441\t81.04624715693708\t1069\t1319\n",
      "B2\tSelf Refine_Original System__run5_e0.1\tSelf Refine\tOriginal System\tentropy_threshold\t5\t0.1\t2\t2206938\t198321\t2405259\t10579700\t82.10765731614859\t1083\t1319\n",
      "B2\tSelf Refine_Original System__run5_e0.1\tSelf Refine\tOriginal System\tentropy_threshold\t5\t0.1\t3\t2129576\t158212\t2287788\t12867488\t82.33510235026536\t1086\t1319\n",
      "B2\tSelf Refine_Original System__run5_e0.1\tSelf Refine\tOriginal System\tentropy_threshold\t5\t0.1\t4\t2109153\t140952\t2250105\t15117593\t82.4109173616376\t1087\t1319\n",
      "B2\tSelf Refine_Original System__run5_e0.1\tSelf Refine\tOriginal System\tentropy_threshold\t5\t0.1\t5\t2154927\t127884\t2282811\t17400404\t82.4109173616376\t1087\t1319\n",
      "B2\tSelf Refine_Original System__run6_e0.1\tSelf Refine\tOriginal System\tentropy_threshold\t6\t0.1\t0\t4803153\t609805\t5412958\t5412958\t77.93783169067476\t1028\t1319\n",
      "B2\tSelf Refine_Original System__run6_e0.1\tSelf Refine\tOriginal System\tentropy_threshold\t6\t0.1\t1\t2497015\t272641\t2769656\t8182614\t80.51554207733132\t1062\t1319\n",
      "B2\tSelf Refine_Original System__run6_e0.1\tSelf Refine\tOriginal System\tentropy_threshold\t6\t0.1\t2\t2142170\t195354\t2337524\t10520138\t81.6527672479151\t1077\t1319\n",
      "B2\tSelf Refine_Original System__run6_e0.1\tSelf Refine\tOriginal System\tentropy_threshold\t6\t0.1\t3\t2066237\t154717\t2220954\t12741092\t82.10765731614859\t1083\t1319\n",
      "B2\tSelf Refine_Original System__run6_e0.1\tSelf Refine\tOriginal System\tentropy_threshold\t6\t0.1\t4\t2102699\t141894\t2244593\t14985685\t82.33510235026536\t1086\t1319\n",
      "B2\tSelf Refine_Original System__run6_e0.1\tSelf Refine\tOriginal System\tentropy_threshold\t6\t0.1\t5\t2105815\t123082\t2228897\t17214582\t82.33510235026536\t1086\t1319\n",
      "B2\tSelf Refine_Original System__run7_e0.1\tSelf Refine\tOriginal System\tentropy_threshold\t7\t0.1\t0\t4802738\t605293\t5408031\t5408031\t77.93783169067476\t1028\t1319\n",
      "B2\tSelf Refine_Original System__run7_e0.1\tSelf Refine\tOriginal System\tentropy_threshold\t7\t0.1\t1\t2409675\t258169\t2667844\t8075875\t80.74298711144806\t1065\t1319\n",
      "B2\tSelf Refine_Original System__run7_e0.1\tSelf Refine\tOriginal System\tentropy_threshold\t7\t0.1\t2\t2057309\t184744\t2242053\t10317928\t81.42532221379834\t1074\t1319\n",
      "B2\tSelf Refine_Original System__run7_e0.1\tSelf Refine\tOriginal System\tentropy_threshold\t7\t0.1\t3\t1975247\t150889\t2126136\t12444064\t82.03184230477635\t1082\t1319\n",
      "B2\tSelf Refine_Original System__run7_e0.1\tSelf Refine\tOriginal System\tentropy_threshold\t7\t0.1\t4\t1961698\t130993\t2092691\t14536755\t82.18347232752085\t1084\t1319\n",
      "B2\tSelf Refine_Original System__run7_e0.1\tSelf Refine\tOriginal System\tentropy_threshold\t7\t0.1\t5\t2013299\t116628\t2129927\t16666682\t82.18347232752085\t1084\t1319\n",
      "B2\tSelf Refine_Original System__run8_e0.1\tSelf Refine\tOriginal System\tentropy_threshold\t8\t0.1\t0\t4802562\t602597\t5405159\t5405159\t78.16527672479151\t1031\t1319\n",
      "B2\tSelf Refine_Original System__run8_e0.1\tSelf Refine\tOriginal System\tentropy_threshold\t8\t0.1\t1\t2492572\t268019\t2760591\t8165750\t81.57695223654284\t1076\t1319\n",
      "B2\tSelf Refine_Original System__run8_e0.1\tSelf Refine\tOriginal System\tentropy_threshold\t8\t0.1\t2\t2129412\t193366\t2322778\t10488528\t82.33510235026536\t1086\t1319\n",
      "B2\tSelf Refine_Original System__run8_e0.1\tSelf Refine\tOriginal System\tentropy_threshold\t8\t0.1\t3\t2040902\t157553\t2198455\t12686983\t82.63836239575436\t1090\t1319\n",
      "B2\tSelf Refine_Original System__run8_e0.1\tSelf Refine\tOriginal System\tentropy_threshold\t8\t0.1\t4\t2063179\t137854\t2201033\t14888016\t82.78999241849885\t1092\t1319\n",
      "B2\tSelf Refine_Original System__run8_e0.1\tSelf Refine\tOriginal System\tentropy_threshold\t8\t0.1\t5\t2088008\t123134\t2211142\t17099158\t83.01743745261561\t1095\t1319\n",
      "B2\tSelf Refine_Original System__run9_e0.1\tSelf Refine\tOriginal System\tentropy_threshold\t9\t0.1\t0\t4802909\t604028\t5406937\t5406937\t77.710386656558\t1025\t1319\n",
      "B2\tSelf Refine_Original System__run9_e0.1\tSelf Refine\tOriginal System\tentropy_threshold\t9\t0.1\t1\t2491442\t265623\t2757065\t8164002\t80.74298711144806\t1065\t1319\n",
      "B2\tSelf Refine_Original System__run9_e0.1\tSelf Refine\tOriginal System\tentropy_threshold\t9\t0.1\t2\t2120345\t186639\t2306984\t10470986\t81.27369219105383\t1072\t1319\n",
      "B2\tSelf Refine_Original System__run9_e0.1\tSelf Refine\tOriginal System\tentropy_threshold\t9\t0.1\t3\t2017624\t152099\t2169723\t12640709\t81.6527672479151\t1077\t1319\n",
      "B2\tSelf Refine_Original System__run9_e0.1\tSelf Refine\tOriginal System\tentropy_threshold\t9\t0.1\t4\t2039069\t137572\t2176641\t14817350\t81.80439727065959\t1079\t1319\n",
      "B2\tSelf Refine_Original System__run9_e0.1\tSelf Refine\tOriginal System\tentropy_threshold\t9\t0.1\t5\t2115382\t125633\t2241015\t17058365\t81.9560272934041\t1081\t1319\n",
      "\n"
     ]
    }
   ],
   "source": [
    "import pandas as pd\n",
    "\n",
    "# i = 0\n",
    "dfs = []\n",
    "entropy = 0.1\n",
    "\n",
    "search_algorithm = \"Self Refine\"\n",
    "system = \"Original System\"\n",
    "category = \"B2\"\n",
    "\n",
    "for i in range(len(c)):\n",
    "    df = pd.read_csv(c[i])\n",
    "    \n",
    "    df['run_id'] = i\n",
    "    df['entropy_threshold'] = entropy\n",
    "    df['Search Algorithm'] = search_algorithm\n",
    "    df['System'] = system\n",
    "    df['Category'] = category\n",
    "    df['Scheduling Algorithm'] = \"entropy_threshold\"\n",
    "    df['Setup'] = f'{search_algorithm}_{system}__run{i}_e{entropy}'\n",
    "    df['Accuracy (%)'] = df['Accuracy'].apply(lambda x: x * 100)\n",
    "    df['Correct'] = df['Correct Questions']\n",
    "    # df['Correct'] = df['Total Questions']\n",
    "\n",
    "    df = df[[\n",
    "        'Category', 'Setup', 'Search Algorithm', 'System', 'Scheduling Algorithm',\n",
    "        'run_id', 'entropy_threshold', \n",
    "        'Attempt', 'Prompt Tokens', 'Output Tokens', 'Total Tokens',\n",
    "        'Cumulative Total Tokens', 'Accuracy (%)', 'Correct', 'Total Questions',\n",
    "    ]]\n",
    "    dfs.append(df)\n",
    "\n",
    "    concat_df = pd.concat(dfs)\n",
    "\n",
    "concat_df.reset_index(drop=True, inplace=True)\n",
    "print(concat_df.to_csv(index=False, sep='\\t'))\n",
    "\n",
    "setting_b2 = concat_df"
   ]
  },
  {
   "cell_type": "code",
   "execution_count": 97,
   "metadata": {},
   "outputs": [
    {
     "data": {
      "application/vnd.plotly.v1+json": {
       "config": {
        "plotlyServerURL": "https://plot.ly"
       },
       "data": [
        {
         "line": {
          "color": "blue"
         },
         "marker": {
          "size": 5
         },
         "mode": "lines+markers",
         "name": "Setting A Accuracy",
         "type": "scatter",
         "x": [
          0,
          1,
          2,
          3,
          4,
          5,
          0,
          1,
          2,
          3,
          4,
          5,
          0,
          1,
          2,
          3,
          4,
          5,
          0,
          1,
          2,
          3,
          4,
          5,
          0,
          1,
          2,
          3,
          4,
          5,
          0,
          1,
          2,
          3,
          4,
          5,
          0,
          1,
          2,
          3,
          4,
          5,
          0,
          1,
          2,
          3,
          4,
          5,
          0,
          1,
          2,
          3,
          4,
          5,
          0,
          1,
          2,
          3,
          4,
          5
         ],
         "y": [
          77.40712661106899,
          80.43972706595906,
          81.42532221379834,
          81.72858225928734,
          81.9560272934041,
          82.03184230477635,
          77.8620166793025,
          81.19787717968158,
          81.9560272934041,
          82.33510235026536,
          82.63836239575436,
          82.86580742987113,
          77.710386656558,
          80.3639120545868,
          81.27369219105383,
          81.88021228203183,
          82.10765731614859,
          82.18347232752085,
          77.8620166793025,
          80.89461713419257,
          81.6527672479151,
          82.03184230477635,
          82.2592873388931,
          82.48673237300986,
          78.16527672479151,
          81.12206216830933,
          81.9560272934041,
          82.10765731614859,
          82.33510235026536,
          82.4109173616376,
          77.8620166793025,
          80.66717210007582,
          82.18347232752085,
          82.48673237300986,
          82.56254738438211,
          82.78999241849885,
          78.013646702047,
          81.72858225928734,
          82.33510235026536,
          82.71417740712661,
          82.78999241849885,
          82.94162244124337,
          78.24109173616375,
          81.80439727065959,
          82.56254738438211,
          82.86580742987113,
          82.94162244124337,
          83.09325246398787,
          77.93783169067476,
          81.6527672479151,
          82.63836239575436,
          82.94162244124337,
          83.09325246398787,
          83.32069749810462,
          78.08946171341927,
          80.89461713419257,
          81.88021228203183,
          82.56254738438211,
          82.78999241849885,
          82.94162244124337
         ]
        },
        {
         "line": {
          "color": "green"
         },
         "marker": {
          "size": 5
         },
         "mode": "lines+markers",
         "name": "Setting B Accuracy",
         "type": "scatter",
         "x": [
          0,
          1,
          2,
          3,
          4,
          5,
          0,
          1,
          2,
          3,
          4,
          5,
          0,
          1,
          2,
          3,
          4,
          5,
          0,
          1,
          2,
          3,
          4,
          5,
          0,
          1,
          2,
          3,
          4,
          5,
          0,
          1,
          2,
          3,
          4,
          5,
          0,
          1,
          2,
          3,
          4,
          5,
          0,
          1,
          2,
          3,
          4,
          5,
          0,
          1,
          2,
          3,
          4,
          5,
          0,
          1,
          2,
          3,
          4,
          5
         ],
         "y": [
          77.78620166793026,
          80.89461713419257,
          81.57695223654284,
          81.80439727065959,
          82.03184230477635,
          82.03184230477635,
          78.08946171341927,
          80.74298711144806,
          81.6527672479151,
          82.2592873388931,
          82.63836239575436,
          82.71417740712661,
          78.46853677028052,
          82.10765731614859,
          82.78999241849885,
          83.01743745261561,
          83.09325246398787,
          83.24488248673238,
          77.710386656558,
          81.27369219105383,
          82.56254738438211,
          83.09325246398787,
          83.32069749810462,
          83.39651250947688,
          78.16527672479151,
          81.27369219105383,
          82.33510235026536,
          82.71417740712661,
          82.78999241849885,
          82.86580742987113,
          77.40712661106899,
          81.12206216830933,
          81.88021228203183,
          82.33510235026536,
          82.48673237300986,
          82.48673237300986,
          77.48294162244125,
          80.51554207733132,
          81.27369219105383,
          81.57695223654284,
          81.72858225928734,
          81.80439727065959,
          77.8620166793025,
          80.97043214556481,
          82.2592873388931,
          82.78999241849885,
          82.86580742987113,
          82.86580742987113,
          77.48294162244125,
          80.81880212282032,
          81.57695223654284,
          81.80439727065959,
          82.03184230477635,
          82.03184230477635,
          78.013646702047,
          80.74298711144806,
          81.72858225928734,
          82.18347232752085,
          82.2592873388931,
          82.2592873388931
         ]
        },
        {
         "line": {
          "color": "red"
         },
         "marker": {
          "size": 5
         },
         "mode": "lines+markers",
         "name": "Setting B2 Accuracy",
         "type": "scatter",
         "x": [
          0,
          1,
          2,
          3,
          4,
          5,
          0,
          1,
          2,
          3,
          4,
          5,
          0,
          1,
          2,
          3,
          4,
          5,
          0,
          1,
          2,
          3,
          4,
          5,
          0,
          1,
          2,
          3,
          4,
          5,
          0,
          1,
          2,
          3,
          4,
          5,
          0,
          1,
          2,
          3,
          4,
          5,
          0,
          1,
          2,
          3,
          4,
          5,
          0,
          1,
          2,
          3,
          4,
          5,
          0,
          1,
          2,
          3,
          4,
          5
         ],
         "y": [
          77.93783169067476,
          80.51554207733132,
          81.27369219105383,
          81.6527672479151,
          81.80439727065959,
          81.80439727065959,
          77.63457164518574,
          81.34950720242608,
          82.4109173616376,
          82.94162244124337,
          83.01743745261561,
          83.01743745261561,
          78.24109173616375,
          81.34950720242608,
          81.80439727065959,
          82.10765731614859,
          82.2592873388931,
          82.2592873388931,
          78.16527672479151,
          81.6527672479151,
          82.4109173616376,
          82.56254738438211,
          82.63836239575436,
          82.71417740712661,
          77.63457164518574,
          80.51554207733132,
          81.6527672479151,
          82.10765731614859,
          82.2592873388931,
          82.2592873388931,
          77.93783169067476,
          81.04624715693708,
          82.10765731614859,
          82.33510235026536,
          82.4109173616376,
          82.4109173616376,
          77.93783169067476,
          80.51554207733132,
          81.6527672479151,
          82.10765731614859,
          82.33510235026536,
          82.33510235026536,
          77.93783169067476,
          80.74298711144806,
          81.42532221379834,
          82.03184230477635,
          82.18347232752085,
          82.18347232752085,
          78.16527672479151,
          81.57695223654284,
          82.33510235026536,
          82.63836239575436,
          82.78999241849885,
          83.01743745261561,
          77.710386656558,
          80.74298711144806,
          81.27369219105383,
          81.6527672479151,
          81.80439727065959,
          81.9560272934041
         ]
        }
       ],
       "layout": {
        "legend": {
         "title": {
          "text": "Settings"
         }
        },
        "template": {
         "data": {
          "bar": [
           {
            "error_x": {
             "color": "#2a3f5f"
            },
            "error_y": {
             "color": "#2a3f5f"
            },
            "marker": {
             "line": {
              "color": "#E5ECF6",
              "width": 0.5
             },
             "pattern": {
              "fillmode": "overlay",
              "size": 10,
              "solidity": 0.2
             }
            },
            "type": "bar"
           }
          ],
          "barpolar": [
           {
            "marker": {
             "line": {
              "color": "#E5ECF6",
              "width": 0.5
             },
             "pattern": {
              "fillmode": "overlay",
              "size": 10,
              "solidity": 0.2
             }
            },
            "type": "barpolar"
           }
          ],
          "carpet": [
           {
            "aaxis": {
             "endlinecolor": "#2a3f5f",
             "gridcolor": "white",
             "linecolor": "white",
             "minorgridcolor": "white",
             "startlinecolor": "#2a3f5f"
            },
            "baxis": {
             "endlinecolor": "#2a3f5f",
             "gridcolor": "white",
             "linecolor": "white",
             "minorgridcolor": "white",
             "startlinecolor": "#2a3f5f"
            },
            "type": "carpet"
           }
          ],
          "choropleth": [
           {
            "colorbar": {
             "outlinewidth": 0,
             "ticks": ""
            },
            "type": "choropleth"
           }
          ],
          "contour": [
           {
            "colorbar": {
             "outlinewidth": 0,
             "ticks": ""
            },
            "colorscale": [
             [
              0,
              "#0d0887"
             ],
             [
              0.1111111111111111,
              "#46039f"
             ],
             [
              0.2222222222222222,
              "#7201a8"
             ],
             [
              0.3333333333333333,
              "#9c179e"
             ],
             [
              0.4444444444444444,
              "#bd3786"
             ],
             [
              0.5555555555555556,
              "#d8576b"
             ],
             [
              0.6666666666666666,
              "#ed7953"
             ],
             [
              0.7777777777777778,
              "#fb9f3a"
             ],
             [
              0.8888888888888888,
              "#fdca26"
             ],
             [
              1,
              "#f0f921"
             ]
            ],
            "type": "contour"
           }
          ],
          "contourcarpet": [
           {
            "colorbar": {
             "outlinewidth": 0,
             "ticks": ""
            },
            "type": "contourcarpet"
           }
          ],
          "heatmap": [
           {
            "colorbar": {
             "outlinewidth": 0,
             "ticks": ""
            },
            "colorscale": [
             [
              0,
              "#0d0887"
             ],
             [
              0.1111111111111111,
              "#46039f"
             ],
             [
              0.2222222222222222,
              "#7201a8"
             ],
             [
              0.3333333333333333,
              "#9c179e"
             ],
             [
              0.4444444444444444,
              "#bd3786"
             ],
             [
              0.5555555555555556,
              "#d8576b"
             ],
             [
              0.6666666666666666,
              "#ed7953"
             ],
             [
              0.7777777777777778,
              "#fb9f3a"
             ],
             [
              0.8888888888888888,
              "#fdca26"
             ],
             [
              1,
              "#f0f921"
             ]
            ],
            "type": "heatmap"
           }
          ],
          "heatmapgl": [
           {
            "colorbar": {
             "outlinewidth": 0,
             "ticks": ""
            },
            "colorscale": [
             [
              0,
              "#0d0887"
             ],
             [
              0.1111111111111111,
              "#46039f"
             ],
             [
              0.2222222222222222,
              "#7201a8"
             ],
             [
              0.3333333333333333,
              "#9c179e"
             ],
             [
              0.4444444444444444,
              "#bd3786"
             ],
             [
              0.5555555555555556,
              "#d8576b"
             ],
             [
              0.6666666666666666,
              "#ed7953"
             ],
             [
              0.7777777777777778,
              "#fb9f3a"
             ],
             [
              0.8888888888888888,
              "#fdca26"
             ],
             [
              1,
              "#f0f921"
             ]
            ],
            "type": "heatmapgl"
           }
          ],
          "histogram": [
           {
            "marker": {
             "pattern": {
              "fillmode": "overlay",
              "size": 10,
              "solidity": 0.2
             }
            },
            "type": "histogram"
           }
          ],
          "histogram2d": [
           {
            "colorbar": {
             "outlinewidth": 0,
             "ticks": ""
            },
            "colorscale": [
             [
              0,
              "#0d0887"
             ],
             [
              0.1111111111111111,
              "#46039f"
             ],
             [
              0.2222222222222222,
              "#7201a8"
             ],
             [
              0.3333333333333333,
              "#9c179e"
             ],
             [
              0.4444444444444444,
              "#bd3786"
             ],
             [
              0.5555555555555556,
              "#d8576b"
             ],
             [
              0.6666666666666666,
              "#ed7953"
             ],
             [
              0.7777777777777778,
              "#fb9f3a"
             ],
             [
              0.8888888888888888,
              "#fdca26"
             ],
             [
              1,
              "#f0f921"
             ]
            ],
            "type": "histogram2d"
           }
          ],
          "histogram2dcontour": [
           {
            "colorbar": {
             "outlinewidth": 0,
             "ticks": ""
            },
            "colorscale": [
             [
              0,
              "#0d0887"
             ],
             [
              0.1111111111111111,
              "#46039f"
             ],
             [
              0.2222222222222222,
              "#7201a8"
             ],
             [
              0.3333333333333333,
              "#9c179e"
             ],
             [
              0.4444444444444444,
              "#bd3786"
             ],
             [
              0.5555555555555556,
              "#d8576b"
             ],
             [
              0.6666666666666666,
              "#ed7953"
             ],
             [
              0.7777777777777778,
              "#fb9f3a"
             ],
             [
              0.8888888888888888,
              "#fdca26"
             ],
             [
              1,
              "#f0f921"
             ]
            ],
            "type": "histogram2dcontour"
           }
          ],
          "mesh3d": [
           {
            "colorbar": {
             "outlinewidth": 0,
             "ticks": ""
            },
            "type": "mesh3d"
           }
          ],
          "parcoords": [
           {
            "line": {
             "colorbar": {
              "outlinewidth": 0,
              "ticks": ""
             }
            },
            "type": "parcoords"
           }
          ],
          "pie": [
           {
            "automargin": true,
            "type": "pie"
           }
          ],
          "scatter": [
           {
            "fillpattern": {
             "fillmode": "overlay",
             "size": 10,
             "solidity": 0.2
            },
            "type": "scatter"
           }
          ],
          "scatter3d": [
           {
            "line": {
             "colorbar": {
              "outlinewidth": 0,
              "ticks": ""
             }
            },
            "marker": {
             "colorbar": {
              "outlinewidth": 0,
              "ticks": ""
             }
            },
            "type": "scatter3d"
           }
          ],
          "scattercarpet": [
           {
            "marker": {
             "colorbar": {
              "outlinewidth": 0,
              "ticks": ""
             }
            },
            "type": "scattercarpet"
           }
          ],
          "scattergeo": [
           {
            "marker": {
             "colorbar": {
              "outlinewidth": 0,
              "ticks": ""
             }
            },
            "type": "scattergeo"
           }
          ],
          "scattergl": [
           {
            "marker": {
             "colorbar": {
              "outlinewidth": 0,
              "ticks": ""
             }
            },
            "type": "scattergl"
           }
          ],
          "scattermapbox": [
           {
            "marker": {
             "colorbar": {
              "outlinewidth": 0,
              "ticks": ""
             }
            },
            "type": "scattermapbox"
           }
          ],
          "scatterpolar": [
           {
            "marker": {
             "colorbar": {
              "outlinewidth": 0,
              "ticks": ""
             }
            },
            "type": "scatterpolar"
           }
          ],
          "scatterpolargl": [
           {
            "marker": {
             "colorbar": {
              "outlinewidth": 0,
              "ticks": ""
             }
            },
            "type": "scatterpolargl"
           }
          ],
          "scatterternary": [
           {
            "marker": {
             "colorbar": {
              "outlinewidth": 0,
              "ticks": ""
             }
            },
            "type": "scatterternary"
           }
          ],
          "surface": [
           {
            "colorbar": {
             "outlinewidth": 0,
             "ticks": ""
            },
            "colorscale": [
             [
              0,
              "#0d0887"
             ],
             [
              0.1111111111111111,
              "#46039f"
             ],
             [
              0.2222222222222222,
              "#7201a8"
             ],
             [
              0.3333333333333333,
              "#9c179e"
             ],
             [
              0.4444444444444444,
              "#bd3786"
             ],
             [
              0.5555555555555556,
              "#d8576b"
             ],
             [
              0.6666666666666666,
              "#ed7953"
             ],
             [
              0.7777777777777778,
              "#fb9f3a"
             ],
             [
              0.8888888888888888,
              "#fdca26"
             ],
             [
              1,
              "#f0f921"
             ]
            ],
            "type": "surface"
           }
          ],
          "table": [
           {
            "cells": {
             "fill": {
              "color": "#EBF0F8"
             },
             "line": {
              "color": "white"
             }
            },
            "header": {
             "fill": {
              "color": "#C8D4E3"
             },
             "line": {
              "color": "white"
             }
            },
            "type": "table"
           }
          ]
         },
         "layout": {
          "annotationdefaults": {
           "arrowcolor": "#2a3f5f",
           "arrowhead": 0,
           "arrowwidth": 1
          },
          "autotypenumbers": "strict",
          "coloraxis": {
           "colorbar": {
            "outlinewidth": 0,
            "ticks": ""
           }
          },
          "colorscale": {
           "diverging": [
            [
             0,
             "#8e0152"
            ],
            [
             0.1,
             "#c51b7d"
            ],
            [
             0.2,
             "#de77ae"
            ],
            [
             0.3,
             "#f1b6da"
            ],
            [
             0.4,
             "#fde0ef"
            ],
            [
             0.5,
             "#f7f7f7"
            ],
            [
             0.6,
             "#e6f5d0"
            ],
            [
             0.7,
             "#b8e186"
            ],
            [
             0.8,
             "#7fbc41"
            ],
            [
             0.9,
             "#4d9221"
            ],
            [
             1,
             "#276419"
            ]
           ],
           "sequential": [
            [
             0,
             "#0d0887"
            ],
            [
             0.1111111111111111,
             "#46039f"
            ],
            [
             0.2222222222222222,
             "#7201a8"
            ],
            [
             0.3333333333333333,
             "#9c179e"
            ],
            [
             0.4444444444444444,
             "#bd3786"
            ],
            [
             0.5555555555555556,
             "#d8576b"
            ],
            [
             0.6666666666666666,
             "#ed7953"
            ],
            [
             0.7777777777777778,
             "#fb9f3a"
            ],
            [
             0.8888888888888888,
             "#fdca26"
            ],
            [
             1,
             "#f0f921"
            ]
           ],
           "sequentialminus": [
            [
             0,
             "#0d0887"
            ],
            [
             0.1111111111111111,
             "#46039f"
            ],
            [
             0.2222222222222222,
             "#7201a8"
            ],
            [
             0.3333333333333333,
             "#9c179e"
            ],
            [
             0.4444444444444444,
             "#bd3786"
            ],
            [
             0.5555555555555556,
             "#d8576b"
            ],
            [
             0.6666666666666666,
             "#ed7953"
            ],
            [
             0.7777777777777778,
             "#fb9f3a"
            ],
            [
             0.8888888888888888,
             "#fdca26"
            ],
            [
             1,
             "#f0f921"
            ]
           ]
          },
          "colorway": [
           "#636efa",
           "#EF553B",
           "#00cc96",
           "#ab63fa",
           "#FFA15A",
           "#19d3f3",
           "#FF6692",
           "#B6E880",
           "#FF97FF",
           "#FECB52"
          ],
          "font": {
           "color": "#2a3f5f"
          },
          "geo": {
           "bgcolor": "white",
           "lakecolor": "white",
           "landcolor": "#E5ECF6",
           "showlakes": true,
           "showland": true,
           "subunitcolor": "white"
          },
          "hoverlabel": {
           "align": "left"
          },
          "hovermode": "closest",
          "mapbox": {
           "style": "light"
          },
          "paper_bgcolor": "white",
          "plot_bgcolor": "#E5ECF6",
          "polar": {
           "angularaxis": {
            "gridcolor": "white",
            "linecolor": "white",
            "ticks": ""
           },
           "bgcolor": "#E5ECF6",
           "radialaxis": {
            "gridcolor": "white",
            "linecolor": "white",
            "ticks": ""
           }
          },
          "scene": {
           "xaxis": {
            "backgroundcolor": "#E5ECF6",
            "gridcolor": "white",
            "gridwidth": 2,
            "linecolor": "white",
            "showbackground": true,
            "ticks": "",
            "zerolinecolor": "white"
           },
           "yaxis": {
            "backgroundcolor": "#E5ECF6",
            "gridcolor": "white",
            "gridwidth": 2,
            "linecolor": "white",
            "showbackground": true,
            "ticks": "",
            "zerolinecolor": "white"
           },
           "zaxis": {
            "backgroundcolor": "#E5ECF6",
            "gridcolor": "white",
            "gridwidth": 2,
            "linecolor": "white",
            "showbackground": true,
            "ticks": "",
            "zerolinecolor": "white"
           }
          },
          "shapedefaults": {
           "line": {
            "color": "#2a3f5f"
           }
          },
          "ternary": {
           "aaxis": {
            "gridcolor": "white",
            "linecolor": "white",
            "ticks": ""
           },
           "baxis": {
            "gridcolor": "white",
            "linecolor": "white",
            "ticks": ""
           },
           "bgcolor": "#E5ECF6",
           "caxis": {
            "gridcolor": "white",
            "linecolor": "white",
            "ticks": ""
           }
          },
          "title": {
           "x": 0.05
          },
          "xaxis": {
           "automargin": true,
           "gridcolor": "white",
           "linecolor": "white",
           "ticks": "",
           "title": {
            "standoff": 15
           },
           "zerolinecolor": "white",
           "zerolinewidth": 2
          },
          "yaxis": {
           "automargin": true,
           "gridcolor": "white",
           "linecolor": "white",
           "ticks": "",
           "title": {
            "standoff": 15
           },
           "zerolinecolor": "white",
           "zerolinewidth": 2
          }
         }
        },
        "title": {
         "text": "Accuracy Curves for Settings A, B, B2"
        },
        "xaxis": {
         "title": {
          "text": "Number of Attempts"
         }
        },
        "yaxis": {
         "title": {
          "text": "Accuracy (%)"
         }
        }
       }
      },
      "text/html": [
       "<div>                            <div id=\"74efef8a-151d-4238-90a7-295069a0ba56\" class=\"plotly-graph-div\" style=\"height:525px; width:100%;\"></div>            <script type=\"text/javascript\">                require([\"plotly\"], function(Plotly) {                    window.PLOTLYENV=window.PLOTLYENV || {};                                    if (document.getElementById(\"74efef8a-151d-4238-90a7-295069a0ba56\")) {                    Plotly.newPlot(                        \"74efef8a-151d-4238-90a7-295069a0ba56\",                        [{\"line\":{\"color\":\"blue\"},\"marker\":{\"size\":5},\"mode\":\"lines+markers\",\"name\":\"Setting A Accuracy\",\"x\":[0,1,2,3,4,5,0,1,2,3,4,5,0,1,2,3,4,5,0,1,2,3,4,5,0,1,2,3,4,5,0,1,2,3,4,5,0,1,2,3,4,5,0,1,2,3,4,5,0,1,2,3,4,5,0,1,2,3,4,5],\"y\":[77.40712661106899,80.43972706595906,81.42532221379834,81.72858225928734,81.9560272934041,82.03184230477635,77.8620166793025,81.19787717968158,81.9560272934041,82.33510235026536,82.63836239575436,82.86580742987113,77.710386656558,80.3639120545868,81.27369219105383,81.88021228203183,82.10765731614859,82.18347232752085,77.8620166793025,80.89461713419257,81.6527672479151,82.03184230477635,82.2592873388931,82.48673237300986,78.16527672479151,81.12206216830933,81.9560272934041,82.10765731614859,82.33510235026536,82.4109173616376,77.8620166793025,80.66717210007582,82.18347232752085,82.48673237300986,82.56254738438211,82.78999241849885,78.013646702047,81.72858225928734,82.33510235026536,82.71417740712661,82.78999241849885,82.94162244124337,78.24109173616375,81.80439727065959,82.56254738438211,82.86580742987113,82.94162244124337,83.09325246398787,77.93783169067476,81.6527672479151,82.63836239575436,82.94162244124337,83.09325246398787,83.32069749810462,78.08946171341927,80.89461713419257,81.88021228203183,82.56254738438211,82.78999241849885,82.94162244124337],\"type\":\"scatter\"},{\"line\":{\"color\":\"green\"},\"marker\":{\"size\":5},\"mode\":\"lines+markers\",\"name\":\"Setting B Accuracy\",\"x\":[0,1,2,3,4,5,0,1,2,3,4,5,0,1,2,3,4,5,0,1,2,3,4,5,0,1,2,3,4,5,0,1,2,3,4,5,0,1,2,3,4,5,0,1,2,3,4,5,0,1,2,3,4,5,0,1,2,3,4,5],\"y\":[77.78620166793026,80.89461713419257,81.57695223654284,81.80439727065959,82.03184230477635,82.03184230477635,78.08946171341927,80.74298711144806,81.6527672479151,82.2592873388931,82.63836239575436,82.71417740712661,78.46853677028052,82.10765731614859,82.78999241849885,83.01743745261561,83.09325246398787,83.24488248673238,77.710386656558,81.27369219105383,82.56254738438211,83.09325246398787,83.32069749810462,83.39651250947688,78.16527672479151,81.27369219105383,82.33510235026536,82.71417740712661,82.78999241849885,82.86580742987113,77.40712661106899,81.12206216830933,81.88021228203183,82.33510235026536,82.48673237300986,82.48673237300986,77.48294162244125,80.51554207733132,81.27369219105383,81.57695223654284,81.72858225928734,81.80439727065959,77.8620166793025,80.97043214556481,82.2592873388931,82.78999241849885,82.86580742987113,82.86580742987113,77.48294162244125,80.81880212282032,81.57695223654284,81.80439727065959,82.03184230477635,82.03184230477635,78.013646702047,80.74298711144806,81.72858225928734,82.18347232752085,82.2592873388931,82.2592873388931],\"type\":\"scatter\"},{\"line\":{\"color\":\"red\"},\"marker\":{\"size\":5},\"mode\":\"lines+markers\",\"name\":\"Setting B2 Accuracy\",\"x\":[0,1,2,3,4,5,0,1,2,3,4,5,0,1,2,3,4,5,0,1,2,3,4,5,0,1,2,3,4,5,0,1,2,3,4,5,0,1,2,3,4,5,0,1,2,3,4,5,0,1,2,3,4,5,0,1,2,3,4,5],\"y\":[77.93783169067476,80.51554207733132,81.27369219105383,81.6527672479151,81.80439727065959,81.80439727065959,77.63457164518574,81.34950720242608,82.4109173616376,82.94162244124337,83.01743745261561,83.01743745261561,78.24109173616375,81.34950720242608,81.80439727065959,82.10765731614859,82.2592873388931,82.2592873388931,78.16527672479151,81.6527672479151,82.4109173616376,82.56254738438211,82.63836239575436,82.71417740712661,77.63457164518574,80.51554207733132,81.6527672479151,82.10765731614859,82.2592873388931,82.2592873388931,77.93783169067476,81.04624715693708,82.10765731614859,82.33510235026536,82.4109173616376,82.4109173616376,77.93783169067476,80.51554207733132,81.6527672479151,82.10765731614859,82.33510235026536,82.33510235026536,77.93783169067476,80.74298711144806,81.42532221379834,82.03184230477635,82.18347232752085,82.18347232752085,78.16527672479151,81.57695223654284,82.33510235026536,82.63836239575436,82.78999241849885,83.01743745261561,77.710386656558,80.74298711144806,81.27369219105383,81.6527672479151,81.80439727065959,81.9560272934041],\"type\":\"scatter\"}],                        {\"template\":{\"data\":{\"histogram2dcontour\":[{\"type\":\"histogram2dcontour\",\"colorbar\":{\"outlinewidth\":0,\"ticks\":\"\"},\"colorscale\":[[0.0,\"#0d0887\"],[0.1111111111111111,\"#46039f\"],[0.2222222222222222,\"#7201a8\"],[0.3333333333333333,\"#9c179e\"],[0.4444444444444444,\"#bd3786\"],[0.5555555555555556,\"#d8576b\"],[0.6666666666666666,\"#ed7953\"],[0.7777777777777778,\"#fb9f3a\"],[0.8888888888888888,\"#fdca26\"],[1.0,\"#f0f921\"]]}],\"choropleth\":[{\"type\":\"choropleth\",\"colorbar\":{\"outlinewidth\":0,\"ticks\":\"\"}}],\"histogram2d\":[{\"type\":\"histogram2d\",\"colorbar\":{\"outlinewidth\":0,\"ticks\":\"\"},\"colorscale\":[[0.0,\"#0d0887\"],[0.1111111111111111,\"#46039f\"],[0.2222222222222222,\"#7201a8\"],[0.3333333333333333,\"#9c179e\"],[0.4444444444444444,\"#bd3786\"],[0.5555555555555556,\"#d8576b\"],[0.6666666666666666,\"#ed7953\"],[0.7777777777777778,\"#fb9f3a\"],[0.8888888888888888,\"#fdca26\"],[1.0,\"#f0f921\"]]}],\"heatmap\":[{\"type\":\"heatmap\",\"colorbar\":{\"outlinewidth\":0,\"ticks\":\"\"},\"colorscale\":[[0.0,\"#0d0887\"],[0.1111111111111111,\"#46039f\"],[0.2222222222222222,\"#7201a8\"],[0.3333333333333333,\"#9c179e\"],[0.4444444444444444,\"#bd3786\"],[0.5555555555555556,\"#d8576b\"],[0.6666666666666666,\"#ed7953\"],[0.7777777777777778,\"#fb9f3a\"],[0.8888888888888888,\"#fdca26\"],[1.0,\"#f0f921\"]]}],\"heatmapgl\":[{\"type\":\"heatmapgl\",\"colorbar\":{\"outlinewidth\":0,\"ticks\":\"\"},\"colorscale\":[[0.0,\"#0d0887\"],[0.1111111111111111,\"#46039f\"],[0.2222222222222222,\"#7201a8\"],[0.3333333333333333,\"#9c179e\"],[0.4444444444444444,\"#bd3786\"],[0.5555555555555556,\"#d8576b\"],[0.6666666666666666,\"#ed7953\"],[0.7777777777777778,\"#fb9f3a\"],[0.8888888888888888,\"#fdca26\"],[1.0,\"#f0f921\"]]}],\"contourcarpet\":[{\"type\":\"contourcarpet\",\"colorbar\":{\"outlinewidth\":0,\"ticks\":\"\"}}],\"contour\":[{\"type\":\"contour\",\"colorbar\":{\"outlinewidth\":0,\"ticks\":\"\"},\"colorscale\":[[0.0,\"#0d0887\"],[0.1111111111111111,\"#46039f\"],[0.2222222222222222,\"#7201a8\"],[0.3333333333333333,\"#9c179e\"],[0.4444444444444444,\"#bd3786\"],[0.5555555555555556,\"#d8576b\"],[0.6666666666666666,\"#ed7953\"],[0.7777777777777778,\"#fb9f3a\"],[0.8888888888888888,\"#fdca26\"],[1.0,\"#f0f921\"]]}],\"surface\":[{\"type\":\"surface\",\"colorbar\":{\"outlinewidth\":0,\"ticks\":\"\"},\"colorscale\":[[0.0,\"#0d0887\"],[0.1111111111111111,\"#46039f\"],[0.2222222222222222,\"#7201a8\"],[0.3333333333333333,\"#9c179e\"],[0.4444444444444444,\"#bd3786\"],[0.5555555555555556,\"#d8576b\"],[0.6666666666666666,\"#ed7953\"],[0.7777777777777778,\"#fb9f3a\"],[0.8888888888888888,\"#fdca26\"],[1.0,\"#f0f921\"]]}],\"mesh3d\":[{\"type\":\"mesh3d\",\"colorbar\":{\"outlinewidth\":0,\"ticks\":\"\"}}],\"scatter\":[{\"fillpattern\":{\"fillmode\":\"overlay\",\"size\":10,\"solidity\":0.2},\"type\":\"scatter\"}],\"parcoords\":[{\"type\":\"parcoords\",\"line\":{\"colorbar\":{\"outlinewidth\":0,\"ticks\":\"\"}}}],\"scatterpolargl\":[{\"type\":\"scatterpolargl\",\"marker\":{\"colorbar\":{\"outlinewidth\":0,\"ticks\":\"\"}}}],\"bar\":[{\"error_x\":{\"color\":\"#2a3f5f\"},\"error_y\":{\"color\":\"#2a3f5f\"},\"marker\":{\"line\":{\"color\":\"#E5ECF6\",\"width\":0.5},\"pattern\":{\"fillmode\":\"overlay\",\"size\":10,\"solidity\":0.2}},\"type\":\"bar\"}],\"scattergeo\":[{\"type\":\"scattergeo\",\"marker\":{\"colorbar\":{\"outlinewidth\":0,\"ticks\":\"\"}}}],\"scatterpolar\":[{\"type\":\"scatterpolar\",\"marker\":{\"colorbar\":{\"outlinewidth\":0,\"ticks\":\"\"}}}],\"histogram\":[{\"marker\":{\"pattern\":{\"fillmode\":\"overlay\",\"size\":10,\"solidity\":0.2}},\"type\":\"histogram\"}],\"scattergl\":[{\"type\":\"scattergl\",\"marker\":{\"colorbar\":{\"outlinewidth\":0,\"ticks\":\"\"}}}],\"scatter3d\":[{\"type\":\"scatter3d\",\"line\":{\"colorbar\":{\"outlinewidth\":0,\"ticks\":\"\"}},\"marker\":{\"colorbar\":{\"outlinewidth\":0,\"ticks\":\"\"}}}],\"scattermapbox\":[{\"type\":\"scattermapbox\",\"marker\":{\"colorbar\":{\"outlinewidth\":0,\"ticks\":\"\"}}}],\"scatterternary\":[{\"type\":\"scatterternary\",\"marker\":{\"colorbar\":{\"outlinewidth\":0,\"ticks\":\"\"}}}],\"scattercarpet\":[{\"type\":\"scattercarpet\",\"marker\":{\"colorbar\":{\"outlinewidth\":0,\"ticks\":\"\"}}}],\"carpet\":[{\"aaxis\":{\"endlinecolor\":\"#2a3f5f\",\"gridcolor\":\"white\",\"linecolor\":\"white\",\"minorgridcolor\":\"white\",\"startlinecolor\":\"#2a3f5f\"},\"baxis\":{\"endlinecolor\":\"#2a3f5f\",\"gridcolor\":\"white\",\"linecolor\":\"white\",\"minorgridcolor\":\"white\",\"startlinecolor\":\"#2a3f5f\"},\"type\":\"carpet\"}],\"table\":[{\"cells\":{\"fill\":{\"color\":\"#EBF0F8\"},\"line\":{\"color\":\"white\"}},\"header\":{\"fill\":{\"color\":\"#C8D4E3\"},\"line\":{\"color\":\"white\"}},\"type\":\"table\"}],\"barpolar\":[{\"marker\":{\"line\":{\"color\":\"#E5ECF6\",\"width\":0.5},\"pattern\":{\"fillmode\":\"overlay\",\"size\":10,\"solidity\":0.2}},\"type\":\"barpolar\"}],\"pie\":[{\"automargin\":true,\"type\":\"pie\"}]},\"layout\":{\"autotypenumbers\":\"strict\",\"colorway\":[\"#636efa\",\"#EF553B\",\"#00cc96\",\"#ab63fa\",\"#FFA15A\",\"#19d3f3\",\"#FF6692\",\"#B6E880\",\"#FF97FF\",\"#FECB52\"],\"font\":{\"color\":\"#2a3f5f\"},\"hovermode\":\"closest\",\"hoverlabel\":{\"align\":\"left\"},\"paper_bgcolor\":\"white\",\"plot_bgcolor\":\"#E5ECF6\",\"polar\":{\"bgcolor\":\"#E5ECF6\",\"angularaxis\":{\"gridcolor\":\"white\",\"linecolor\":\"white\",\"ticks\":\"\"},\"radialaxis\":{\"gridcolor\":\"white\",\"linecolor\":\"white\",\"ticks\":\"\"}},\"ternary\":{\"bgcolor\":\"#E5ECF6\",\"aaxis\":{\"gridcolor\":\"white\",\"linecolor\":\"white\",\"ticks\":\"\"},\"baxis\":{\"gridcolor\":\"white\",\"linecolor\":\"white\",\"ticks\":\"\"},\"caxis\":{\"gridcolor\":\"white\",\"linecolor\":\"white\",\"ticks\":\"\"}},\"coloraxis\":{\"colorbar\":{\"outlinewidth\":0,\"ticks\":\"\"}},\"colorscale\":{\"sequential\":[[0.0,\"#0d0887\"],[0.1111111111111111,\"#46039f\"],[0.2222222222222222,\"#7201a8\"],[0.3333333333333333,\"#9c179e\"],[0.4444444444444444,\"#bd3786\"],[0.5555555555555556,\"#d8576b\"],[0.6666666666666666,\"#ed7953\"],[0.7777777777777778,\"#fb9f3a\"],[0.8888888888888888,\"#fdca26\"],[1.0,\"#f0f921\"]],\"sequentialminus\":[[0.0,\"#0d0887\"],[0.1111111111111111,\"#46039f\"],[0.2222222222222222,\"#7201a8\"],[0.3333333333333333,\"#9c179e\"],[0.4444444444444444,\"#bd3786\"],[0.5555555555555556,\"#d8576b\"],[0.6666666666666666,\"#ed7953\"],[0.7777777777777778,\"#fb9f3a\"],[0.8888888888888888,\"#fdca26\"],[1.0,\"#f0f921\"]],\"diverging\":[[0,\"#8e0152\"],[0.1,\"#c51b7d\"],[0.2,\"#de77ae\"],[0.3,\"#f1b6da\"],[0.4,\"#fde0ef\"],[0.5,\"#f7f7f7\"],[0.6,\"#e6f5d0\"],[0.7,\"#b8e186\"],[0.8,\"#7fbc41\"],[0.9,\"#4d9221\"],[1,\"#276419\"]]},\"xaxis\":{\"gridcolor\":\"white\",\"linecolor\":\"white\",\"ticks\":\"\",\"title\":{\"standoff\":15},\"zerolinecolor\":\"white\",\"automargin\":true,\"zerolinewidth\":2},\"yaxis\":{\"gridcolor\":\"white\",\"linecolor\":\"white\",\"ticks\":\"\",\"title\":{\"standoff\":15},\"zerolinecolor\":\"white\",\"automargin\":true,\"zerolinewidth\":2},\"scene\":{\"xaxis\":{\"backgroundcolor\":\"#E5ECF6\",\"gridcolor\":\"white\",\"linecolor\":\"white\",\"showbackground\":true,\"ticks\":\"\",\"zerolinecolor\":\"white\",\"gridwidth\":2},\"yaxis\":{\"backgroundcolor\":\"#E5ECF6\",\"gridcolor\":\"white\",\"linecolor\":\"white\",\"showbackground\":true,\"ticks\":\"\",\"zerolinecolor\":\"white\",\"gridwidth\":2},\"zaxis\":{\"backgroundcolor\":\"#E5ECF6\",\"gridcolor\":\"white\",\"linecolor\":\"white\",\"showbackground\":true,\"ticks\":\"\",\"zerolinecolor\":\"white\",\"gridwidth\":2}},\"shapedefaults\":{\"line\":{\"color\":\"#2a3f5f\"}},\"annotationdefaults\":{\"arrowcolor\":\"#2a3f5f\",\"arrowhead\":0,\"arrowwidth\":1},\"geo\":{\"bgcolor\":\"white\",\"landcolor\":\"#E5ECF6\",\"subunitcolor\":\"white\",\"showland\":true,\"showlakes\":true,\"lakecolor\":\"white\"},\"title\":{\"x\":0.05},\"mapbox\":{\"style\":\"light\"}}},\"title\":{\"text\":\"Accuracy Curves for Settings A, B, B2\"},\"xaxis\":{\"title\":{\"text\":\"Number of Attempts\"}},\"yaxis\":{\"title\":{\"text\":\"Accuracy (%)\"}},\"legend\":{\"title\":{\"text\":\"Settings\"}}},                        {\"responsive\": true}                    ).then(function(){\n",
       "                            \n",
       "var gd = document.getElementById('74efef8a-151d-4238-90a7-295069a0ba56');\n",
       "var x = new MutationObserver(function (mutations, observer) {{\n",
       "        var display = window.getComputedStyle(gd).display;\n",
       "        if (!display || display === 'none') {{\n",
       "            console.log([gd, 'removed!']);\n",
       "            Plotly.purge(gd);\n",
       "            observer.disconnect();\n",
       "        }}\n",
       "}});\n",
       "\n",
       "// Listen for the removal of the full notebook cells\n",
       "var notebookContainer = gd.closest('#notebook-container');\n",
       "if (notebookContainer) {{\n",
       "    x.observe(notebookContainer, {childList: true});\n",
       "}}\n",
       "\n",
       "// Listen for the clearing of the current output cell\n",
       "var outputEl = gd.closest('.output');\n",
       "if (outputEl) {{\n",
       "    x.observe(outputEl, {childList: true});\n",
       "}}\n",
       "\n",
       "                        })                };                });            </script>        </div>"
      ]
     },
     "metadata": {},
     "output_type": "display_data"
    }
   ],
   "source": [
    "import plotly.graph_objects as go\n",
    "\n",
    "# Create traces for each setting\n",
    "trace_a = go.Scatter(\n",
    "    x=setting_a['Attempt'],\n",
    "    y=setting_a['Accuracy (%)'],\n",
    "    mode='lines+markers',\n",
    "    name='Setting A Accuracy',\n",
    "    line=dict(color='blue'),\n",
    "    marker=dict(size=5)\n",
    ")\n",
    "\n",
    "trace_b = go.Scatter(\n",
    "    x=setting_b['Attempt'],\n",
    "    y=setting_b['Accuracy (%)'],\n",
    "    mode='lines+markers',\n",
    "    name='Setting B Accuracy',\n",
    "    line=dict(color='green'),\n",
    "    marker=dict(size=5)\n",
    ")\n",
    "\n",
    "trace_b2 = go.Scatter(\n",
    "    x=setting_b2['Attempt'],\n",
    "    y=setting_b2['Accuracy (%)'],\n",
    "    mode='lines+markers',\n",
    "    name='Setting B2 Accuracy',\n",
    "    line=dict(color='red'),\n",
    "    marker=dict(size=5)\n",
    ")\n",
    "\n",
    "# Create the figure\n",
    "fig = go.Figure()\n",
    "\n",
    "# Add traces to the figure\n",
    "fig.add_trace(trace_a)\n",
    "fig.add_trace(trace_b)\n",
    "fig.add_trace(trace_b2)\n",
    "\n",
    "# Update layout\n",
    "fig.update_layout(\n",
    "    title='Accuracy Curves for Settings A, B, B2',\n",
    "    xaxis_title='Number of Attempts',\n",
    "    yaxis_title='Accuracy (%)',\n",
    "    legend_title='Settings'\n",
    ")\n",
    "\n",
    "# Show the plot\n",
    "fig.show()\n"
   ]
  },
  {
   "cell_type": "code",
   "execution_count": null,
   "metadata": {},
   "outputs": [],
   "source": []
  },
  {
   "cell_type": "code",
   "execution_count": null,
   "metadata": {},
   "outputs": [],
   "source": []
  },
  {
   "cell_type": "code",
   "execution_count": 98,
   "metadata": {},
   "outputs": [
    {
     "data": {
      "image/png": "[encoded data removed]",
      "text/plain": [
       "<Figure size 1000x600 with 1 Axes>"
      ]
     },
     "metadata": {},
     "output_type": "display_data"
    }
   ],
   "source": [
    "# Assuming setting_a, setting_b, and setting_b2 are already defined DataFrames\n",
    "\n",
    "# Calculate mean and std for each setting\n",
    "def calculate_mean_std(setting):\n",
    "    x_mean = setting.groupby('Attempt')['Cumulative Total Tokens'].mean().reset_index()\n",
    "    y_mean = setting.groupby('Attempt')['Accuracy (%)'].mean().reset_index()\n",
    "    x_std = setting.groupby('Attempt')['Cumulative Total Tokens'].std().reset_index()\n",
    "    y_std = setting.groupby('Attempt')['Accuracy (%)'].std().reset_index()\n",
    "    return x_mean, y_mean, x_std, y_std\n",
    "\n",
    "x_mean_a, y_mean_a, x_std_a, y_std_a = calculate_mean_std(setting_a)\n",
    "x_mean_b, y_mean_b, x_std_b, y_std_b = calculate_mean_std(setting_b)\n",
    "x_mean_b2, y_mean_b2, x_std_b2, y_std_b2 = calculate_mean_std(setting_b2)\n",
    "\n",
    "# Plot the mean and std for each setting\n",
    "plt.figure(figsize=(10, 6))\n",
    "\n",
    "# Plot setting_a\n",
    "x_a = x_mean_a['Cumulative Total Tokens'].apply(int)\n",
    "y_a = y_mean_a['Accuracy (%)']\n",
    "plt.plot(x_a, y_a, color='blue', label='Setting A Mean Accuracy', marker='o', markersize=10)\n",
    "plt.fill_between(x_a, y_a - y_std_a['Accuracy (%)'], y_a + y_std_a['Accuracy (%)'], color='blue', alpha=0.2)\n",
    "\n",
    "# Plot setting_b\n",
    "x_b = x_mean_b['Cumulative Total Tokens'].apply(int)\n",
    "y_b = y_mean_b['Accuracy (%)']\n",
    "plt.plot(x_b, y_b, color='green', label='Setting B Mean Accuracy', marker='o', markersize=10)\n",
    "plt.fill_between(x_b, y_b - y_std_b['Accuracy (%)'], y_b + y_std_b['Accuracy (%)'], color='green', alpha=0.2)\n",
    "\n",
    "# # Plot setting_b2\n",
    "# x_b2 = x_mean_b2['Cumulative Total Tokens'].apply(int)\n",
    "# y_b2 = y_mean_b2['Accuracy (%)']\n",
    "# plt.plot(x_b2, y_b2, color='red', label='Setting B2 Mean Accuracy', marker='o', markersize=10)\n",
    "# plt.fill_between(x_b2, y_b2 - y_std_b2['Accuracy (%)'], y_b2 + y_std_b2['Accuracy (%)'], color='red', alpha=0.2)\n",
    "\n",
    "plt.title('Comparison of Mean Accuracy for Settings A, B')\n",
    "plt.xlabel('Cumulative Total Tokens')\n",
    "plt.ylabel('Accuracy (%)')\n",
    "\n",
    "plt.legend()\n",
    "plt.show()\n"
   ]
  },
  {
   "cell_type": "code",
   "execution_count": 99,
   "metadata": {},
   "outputs": [
    {
     "data": {
      "image/png": "[encoded data removed]",
      "text/plain": [
       "<Figure size 1000x600 with 1 Axes>"
      ]
     },
     "metadata": {},
     "output_type": "display_data"
    }
   ],
   "source": [
    "# Assuming setting_a, setting_b, and setting_b2 are already defined DataFrames\n",
    "\n",
    "# Calculate mean and std for each setting\n",
    "def calculate_mean_std(setting):\n",
    "    x_mean = setting.groupby('Attempt')['Cumulative Total Tokens'].mean().reset_index()\n",
    "    y_mean = setting.groupby('Attempt')['Accuracy (%)'].mean().reset_index()\n",
    "    x_std = setting.groupby('Attempt')['Cumulative Total Tokens'].std().reset_index()\n",
    "    y_std = setting.groupby('Attempt')['Accuracy (%)'].std().reset_index()\n",
    "    return x_mean, y_mean, x_std, y_std\n",
    "\n",
    "x_mean_a, y_mean_a, x_std_a, y_std_a = calculate_mean_std(setting_a)\n",
    "x_mean_b, y_mean_b, x_std_b, y_std_b = calculate_mean_std(setting_b)\n",
    "x_mean_b2, y_mean_b2, x_std_b2, y_std_b2 = calculate_mean_std(setting_b2)\n",
    "\n",
    "# Plot the mean and std for each setting\n",
    "plt.figure(figsize=(10, 6))\n",
    "\n",
    "# Plot setting_a\n",
    "x_a = x_mean_a['Cumulative Total Tokens'].apply(int)\n",
    "y_a = y_mean_a['Accuracy (%)']\n",
    "plt.plot(x_a, y_a, color='blue', label='Setting A Mean Accuracy', marker='o', markersize=8)\n",
    "plt.fill_between(x_a, y_a - y_std_a['Accuracy (%)'], y_a + y_std_a['Accuracy (%)'], color='blue', alpha=0.2)\n",
    "\n",
    "# # Plot setting_b\n",
    "# x_b = x_mean_b['Cumulative Total Tokens'].apply(int)\n",
    "# y_b = y_mean_b['Accuracy (%)']\n",
    "# plt.plot(x_b, y_b, color='green', label='Setting B Mean Accuracy', marker='o', markersize=8)\n",
    "# plt.fill_between(x_b, y_b - y_std_b['Accuracy (%)'], y_b + y_std_b['Accuracy (%)'], color='green', alpha=0.2)\n",
    "\n",
    "# Plot setting_b2\n",
    "x_b2 = x_mean_b2['Cumulative Total Tokens'].apply(int)\n",
    "y_b2 = y_mean_b2['Accuracy (%)']\n",
    "plt.plot(x_b2, y_b2, color='green', label='Setting B2 Mean Accuracy', marker='o', markersize=8)\n",
    "plt.fill_between(x_b2, y_b2 - y_std_b2['Accuracy (%)'], y_b2 + y_std_b2['Accuracy (%)'], color='green', alpha=0.2)\n",
    "\n",
    "plt.title('Comparison of Mean Accuracy for Settings A, B2')\n",
    "plt.xlabel('Cumulative Total Tokens')\n",
    "plt.ylabel('Accuracy (%)')\n",
    "plt.legend()\n",
    "plt.show()\n"
   ]
  },
  {
   "cell_type": "code",
   "execution_count": null,
   "metadata": {},
   "outputs": [],
   "source": []
  },
  {
   "cell_type": "code",
   "execution_count": null,
   "metadata": {},
   "outputs": [],
   "source": [
    "\n"
   ]
  },
  {
   "cell_type": "code",
   "execution_count": 100,
   "metadata": {},
   "outputs": [
    {
     "name": "stdout",
     "output_type": "stream",
     "text": [
      "Setting\tCategory\tSetup\tSearch Algorithm\tSystem\tScheduling Algorithm\trun_id\tentropy_threshold\tAttempt\tPrompt Tokens\tOutput Tokens\tTotal Tokens\tCumulative Total Tokens\tAccuracy (%)\tCorrect\tTotal Questions\n",
      "Setting A\tA\tSelf Refine_Original System__run0_e0\tSelf Refine\tOriginal System\tentropy_threshold\t0\t0.0\t0\t4803258\t606950\t5410208\t5410208\t77.40712661106899\t1021\t1319\n",
      "Setting A\tA\tSelf Refine_Original System__run0_e0\tSelf Refine\tOriginal System\tentropy_threshold\t0\t0.0\t1\t2381534\t257507\t2639041\t8049249\t80.43972706595906\t1061\t1319\n",
      "Setting A\tA\tSelf Refine_Original System__run0_e0\tSelf Refine\tOriginal System\tentropy_threshold\t0\t0.0\t2\t2027769\t184941\t2212710\t10261959\t81.42532221379834\t1074\t1319\n",
      "Setting A\tA\tSelf Refine_Original System__run0_e0\tSelf Refine\tOriginal System\tentropy_threshold\t0\t0.0\t3\t1879336\t146959\t2026295\t12288254\t81.72858225928734\t1078\t1319\n",
      "Setting A\tA\tSelf Refine_Original System__run0_e0\tSelf Refine\tOriginal System\tentropy_threshold\t0\t0.0\t4\t1950781\t132377\t2083158\t14371412\t81.9560272934041\t1081\t1319\n",
      "Setting A\tA\tSelf Refine_Original System__run0_e0\tSelf Refine\tOriginal System\tentropy_threshold\t0\t0.0\t5\t2044027\t124720\t2168747\t16540159\t82.03184230477635\t1082\t1319\n",
      "Setting A\tA\tSelf Refine_Original System__run1_e0\tSelf Refine\tOriginal System\tentropy_threshold\t1\t0.0\t0\t4802787\t600657\t5403444\t5403444\t77.8620166793025\t1027\t1319\n",
      "Setting A\tA\tSelf Refine_Original System__run1_e0\tSelf Refine\tOriginal System\tentropy_threshold\t1\t0.0\t1\t2537191\t272251\t2809442\t8212886\t81.19787717968158\t1071\t1319\n",
      "Setting A\tA\tSelf Refine_Original System__run1_e0\tSelf Refine\tOriginal System\tentropy_threshold\t1\t0.0\t2\t2161653\t192451\t2354104\t10566990\t81.9560272934041\t1081\t1319\n",
      "Setting A\tA\tSelf Refine_Original System__run1_e0\tSelf Refine\tOriginal System\tentropy_threshold\t1\t0.0\t3\t2003369\t153783\t2157152\t12724142\t82.33510235026536\t1086\t1319\n",
      "Setting A\tA\tSelf Refine_Original System__run1_e0\tSelf Refine\tOriginal System\tentropy_threshold\t1\t0.0\t4\t1997713\t135025\t2132738\t14856880\t82.63836239575436\t1090\t1319\n",
      "Setting A\tA\tSelf Refine_Original System__run1_e0\tSelf Refine\tOriginal System\tentropy_threshold\t1\t0.0\t5\t2067411\t124278\t2191689\t17048569\t82.86580742987113\t1093\t1319\n",
      "Setting A\tA\tSelf Refine_Original System__run2_e0\tSelf Refine\tOriginal System\tentropy_threshold\t2\t0.0\t0\t4802650\t604933\t5407583\t5407583\t77.710386656558\t1025\t1319\n",
      "Setting A\tA\tSelf Refine_Original System__run2_e0\tSelf Refine\tOriginal System\tentropy_threshold\t2\t0.0\t1\t2458683\t259796\t2718479\t8126062\t80.3639120545868\t1060\t1319\n",
      "Setting A\tA\tSelf Refine_Original System__run2_e0\tSelf Refine\tOriginal System\tentropy_threshold\t2\t0.0\t2\t2210315\t199157\t2409472\t10535534\t81.27369219105383\t1072\t1319\n",
      "Setting A\tA\tSelf Refine_Original System__run2_e0\tSelf Refine\tOriginal System\tentropy_threshold\t2\t0.0\t3\t2180591\t165070\t2345661\t12881195\t81.88021228203183\t1080\t1319\n",
      "Setting A\tA\tSelf Refine_Original System__run2_e0\tSelf Refine\tOriginal System\tentropy_threshold\t2\t0.0\t4\t2138300\t144711\t2283011\t15164206\t82.10765731614859\t1083\t1319\n",
      "Setting A\tA\tSelf Refine_Original System__run2_e0\tSelf Refine\tOriginal System\tentropy_threshold\t2\t0.0\t5\t2239117\t133230\t2372347\t17536553\t82.18347232752085\t1084\t1319\n",
      "Setting A\tA\tSelf Refine_Original System__run3_e0\tSelf Refine\tOriginal System\tentropy_threshold\t3\t0.0\t0\t4803111\t608851\t5411962\t5411962\t77.8620166793025\t1027\t1319\n",
      "Setting A\tA\tSelf Refine_Original System__run3_e0\tSelf Refine\tOriginal System\tentropy_threshold\t3\t0.0\t1\t2399695\t256433\t2656128\t8068090\t80.89461713419257\t1067\t1319\n",
      "Setting A\tA\tSelf Refine_Original System__run3_e0\tSelf Refine\tOriginal System\tentropy_threshold\t3\t0.0\t2\t2077263\t184571\t2261834\t10329924\t81.6527672479151\t1077\t1319\n",
      "Setting A\tA\tSelf Refine_Original System__run3_e0\tSelf Refine\tOriginal System\tentropy_threshold\t3\t0.0\t3\t1992859\t148208\t2141067\t12470991\t82.03184230477635\t1082\t1319\n",
      "Setting A\tA\tSelf Refine_Original System__run3_e0\tSelf Refine\tOriginal System\tentropy_threshold\t3\t0.0\t4\t2019589\t135942\t2155531\t14626522\t82.2592873388931\t1085\t1319\n",
      "Setting A\tA\tSelf Refine_Original System__run3_e0\tSelf Refine\tOriginal System\tentropy_threshold\t3\t0.0\t5\t2104359\t120680\t2225039\t16851561\t82.48673237300986\t1088\t1319\n",
      "Setting A\tA\tSelf Refine_Original System__run4_e0\tSelf Refine\tOriginal System\tentropy_threshold\t4\t0.0\t0\t4803309\t606222\t5409531\t5409531\t78.16527672479151\t1031\t1319\n",
      "Setting A\tA\tSelf Refine_Original System__run4_e0\tSelf Refine\tOriginal System\tentropy_threshold\t4\t0.0\t1\t2432333\t257139\t2689472\t8099003\t81.12206216830933\t1070\t1319\n",
      "Setting A\tA\tSelf Refine_Original System__run4_e0\tSelf Refine\tOriginal System\tentropy_threshold\t4\t0.0\t2\t2057393\t182407\t2239800\t10338803\t81.9560272934041\t1081\t1319\n",
      "Setting A\tA\tSelf Refine_Original System__run4_e0\tSelf Refine\tOriginal System\tentropy_threshold\t4\t0.0\t3\t1943912\t146985\t2090897\t12429700\t82.10765731614859\t1083\t1319\n",
      "Setting A\tA\tSelf Refine_Original System__run4_e0\tSelf Refine\tOriginal System\tentropy_threshold\t4\t0.0\t4\t1963489\t129295\t2092784\t14522484\t82.33510235026536\t1086\t1319\n",
      "Setting A\tA\tSelf Refine_Original System__run4_e0\tSelf Refine\tOriginal System\tentropy_threshold\t4\t0.0\t5\t1992985\t116061\t2109046\t16631530\t82.4109173616376\t1087\t1319\n",
      "Setting A\tA\tSelf Refine_Original System__run5_e0\tSelf Refine\tOriginal System\tentropy_threshold\t5\t0.0\t0\t4802950\t604295\t5407245\t5407245\t77.8620166793025\t1027\t1319\n",
      "Setting A\tA\tSelf Refine_Original System__run5_e0\tSelf Refine\tOriginal System\tentropy_threshold\t5\t0.0\t1\t2440693\t257424\t2698117\t8105362\t80.66717210007582\t1064\t1319\n",
      "Setting A\tA\tSelf Refine_Original System__run5_e0\tSelf Refine\tOriginal System\tentropy_threshold\t5\t0.0\t2\t2098778\t183962\t2282740\t10388102\t82.18347232752085\t1084\t1319\n",
      "Setting A\tA\tSelf Refine_Original System__run5_e0\tSelf Refine\tOriginal System\tentropy_threshold\t5\t0.0\t3\t2019833\t149996\t2169829\t12557931\t82.48673237300986\t1088\t1319\n",
      "Setting A\tA\tSelf Refine_Original System__run5_e0\tSelf Refine\tOriginal System\tentropy_threshold\t5\t0.0\t4\t1977673\t129360\t2107033\t14664964\t82.56254738438211\t1089\t1319\n",
      "Setting A\tA\tSelf Refine_Original System__run5_e0\tSelf Refine\tOriginal System\tentropy_threshold\t5\t0.0\t5\t2061664\t116494\t2178158\t16843122\t82.78999241849885\t1092\t1319\n",
      "Setting A\tA\tSelf Refine_Original System__run6_e0\tSelf Refine\tOriginal System\tentropy_threshold\t6\t0.0\t0\t4803032\t604187\t5407219\t5407219\t78.013646702047\t1029\t1319\n",
      "Setting A\tA\tSelf Refine_Original System__run6_e0\tSelf Refine\tOriginal System\tentropy_threshold\t6\t0.0\t1\t2460543\t262685\t2723228\t8130447\t81.72858225928734\t1078\t1319\n",
      "Setting A\tA\tSelf Refine_Original System__run6_e0\tSelf Refine\tOriginal System\tentropy_threshold\t6\t0.0\t2\t2159314\t190452\t2349766\t10480213\t82.33510235026536\t1086\t1319\n",
      "Setting A\tA\tSelf Refine_Original System__run6_e0\tSelf Refine\tOriginal System\tentropy_threshold\t6\t0.0\t3\t2113786\t160330\t2274116\t12754329\t82.71417740712661\t1091\t1319\n",
      "Setting A\tA\tSelf Refine_Original System__run6_e0\tSelf Refine\tOriginal System\tentropy_threshold\t6\t0.0\t4\t2086316\t136229\t2222545\t14976874\t82.78999241849885\t1092\t1319\n",
      "Setting A\tA\tSelf Refine_Original System__run6_e0\tSelf Refine\tOriginal System\tentropy_threshold\t6\t0.0\t5\t2102391\t123078\t2225469\t17202343\t82.94162244124337\t1094\t1319\n",
      "Setting A\tA\tSelf Refine_Original System__run7_e0\tSelf Refine\tOriginal System\tentropy_threshold\t7\t0.0\t0\t4802769\t602994\t5405763\t5405763\t78.24109173616375\t1032\t1319\n",
      "Setting A\tA\tSelf Refine_Original System__run7_e0\tSelf Refine\tOriginal System\tentropy_threshold\t7\t0.0\t1\t2528719\t268393\t2797112\t8202875\t81.80439727065959\t1079\t1319\n",
      "Setting A\tA\tSelf Refine_Original System__run7_e0\tSelf Refine\tOriginal System\tentropy_threshold\t7\t0.0\t2\t2163832\t190012\t2353844\t10556719\t82.56254738438211\t1089\t1319\n",
      "Setting A\tA\tSelf Refine_Original System__run7_e0\tSelf Refine\tOriginal System\tentropy_threshold\t7\t0.0\t3\t2055175\t154682\t2209857\t12766576\t82.86580742987113\t1093\t1319\n",
      "Setting A\tA\tSelf Refine_Original System__run7_e0\tSelf Refine\tOriginal System\tentropy_threshold\t7\t0.0\t4\t2069016\t135210\t2204226\t14970802\t82.94162244124337\t1094\t1319\n",
      "Setting A\tA\tSelf Refine_Original System__run7_e0\tSelf Refine\tOriginal System\tentropy_threshold\t7\t0.0\t5\t2076254\t121673\t2197927\t17168729\t83.09325246398787\t1096\t1319\n",
      "Setting A\tA\tSelf Refine_Original System__run8_e0\tSelf Refine\tOriginal System\tentropy_threshold\t8\t0.0\t0\t4802449\t604202\t5406651\t5406651\t77.93783169067476\t1028\t1319\n",
      "Setting A\tA\tSelf Refine_Original System__run8_e0\tSelf Refine\tOriginal System\tentropy_threshold\t8\t0.0\t1\t2550299\t273469\t2823768\t8230419\t81.6527672479151\t1077\t1319\n",
      "Setting A\tA\tSelf Refine_Original System__run8_e0\tSelf Refine\tOriginal System\tentropy_threshold\t8\t0.0\t2\t2204400\t197158\t2401558\t10631977\t82.63836239575436\t1090\t1319\n",
      "Setting A\tA\tSelf Refine_Original System__run8_e0\tSelf Refine\tOriginal System\tentropy_threshold\t8\t0.0\t3\t2114184\t163737\t2277921\t12909898\t82.94162244124337\t1094\t1319\n",
      "Setting A\tA\tSelf Refine_Original System__run8_e0\tSelf Refine\tOriginal System\tentropy_threshold\t8\t0.0\t4\t2098711\t137735\t2236446\t15146344\t83.09325246398787\t1096\t1319\n",
      "Setting A\tA\tSelf Refine_Original System__run8_e0\tSelf Refine\tOriginal System\tentropy_threshold\t8\t0.0\t5\t2191085\t128943\t2320028\t17466372\t83.32069749810462\t1099\t1319\n",
      "Setting A\tA\tSelf Refine_Original System__run9_e0\tSelf Refine\tOriginal System\tentropy_threshold\t9\t0.0\t0\t4803005\t603109\t5406114\t5406114\t78.08946171341927\t1030\t1319\n",
      "Setting A\tA\tSelf Refine_Original System__run9_e0\tSelf Refine\tOriginal System\tentropy_threshold\t9\t0.0\t1\t2487710\t263470\t2751180\t8157294\t80.89461713419257\t1067\t1319\n",
      "Setting A\tA\tSelf Refine_Original System__run9_e0\tSelf Refine\tOriginal System\tentropy_threshold\t9\t0.0\t2\t2098087\t185448\t2283535\t10440829\t81.88021228203183\t1080\t1319\n",
      "Setting A\tA\tSelf Refine_Original System__run9_e0\tSelf Refine\tOriginal System\tentropy_threshold\t9\t0.0\t3\t1957968\t147361\t2105329\t12546158\t82.56254738438211\t1089\t1319\n",
      "Setting A\tA\tSelf Refine_Original System__run9_e0\tSelf Refine\tOriginal System\tentropy_threshold\t9\t0.0\t4\t1972812\t127782\t2100594\t14646752\t82.78999241849885\t1092\t1319\n",
      "Setting A\tA\tSelf Refine_Original System__run9_e0\tSelf Refine\tOriginal System\tentropy_threshold\t9\t0.0\t5\t2061263\t118612\t2179875\t16826627\t82.94162244124337\t1094\t1319\n",
      "Setting B\tB\tSelf Refine_Original System__run0_e0.05\tSelf Refine\tOriginal System\tentropy_threshold\t0\t0.05\t0\t4803049\t606659\t5409708\t5409708\t77.78620166793026\t1026\t1319\n",
      "Setting B\tB\tSelf Refine_Original System__run0_e0.05\tSelf Refine\tOriginal System\tentropy_threshold\t0\t0.05\t1\t2485426\t266621\t2752047\t8161755\t80.89461713419257\t1067\t1319\n",
      "Setting B\tB\tSelf Refine_Original System__run0_e0.05\tSelf Refine\tOriginal System\tentropy_threshold\t0\t0.05\t2\t2152262\t192057\t2344319\t10506074\t81.57695223654284\t1076\t1319\n",
      "Setting B\tB\tSelf Refine_Original System__run0_e0.05\tSelf Refine\tOriginal System\tentropy_threshold\t0\t0.05\t3\t2021703\t153858\t2175561\t12681635\t81.80439727065959\t1079\t1319\n",
      "Setting B\tB\tSelf Refine_Original System__run0_e0.05\tSelf Refine\tOriginal System\tentropy_threshold\t0\t0.05\t4\t2106437\t140470\t2246907\t14928542\t82.03184230477635\t1082\t1319\n",
      "Setting B\tB\tSelf Refine_Original System__run0_e0.05\tSelf Refine\tOriginal System\tentropy_threshold\t0\t0.05\t5\t2180765\t129079\t2309844\t17238386\t82.03184230477635\t1082\t1319\n",
      "Setting B\tB\tSelf Refine_Original System__run1_e0.05\tSelf Refine\tOriginal System\tentropy_threshold\t1\t0.05\t0\t4802800\t598023\t5400823\t5400823\t78.08946171341927\t1030\t1319\n",
      "Setting B\tB\tSelf Refine_Original System__run1_e0.05\tSelf Refine\tOriginal System\tentropy_threshold\t1\t0.05\t1\t2504116\t266814\t2770930\t8171753\t80.74298711144806\t1065\t1319\n",
      "Setting B\tB\tSelf Refine_Original System__run1_e0.05\tSelf Refine\tOriginal System\tentropy_threshold\t1\t0.05\t2\t2130753\t190859\t2321612\t10493365\t81.6527672479151\t1077\t1319\n",
      "Setting B\tB\tSelf Refine_Original System__run1_e0.05\tSelf Refine\tOriginal System\tentropy_threshold\t1\t0.05\t3\t2011649\t154657\t2166306\t12659671\t82.2592873388931\t1085\t1319\n",
      "Setting B\tB\tSelf Refine_Original System__run1_e0.05\tSelf Refine\tOriginal System\tentropy_threshold\t1\t0.05\t4\t2021955\t139551\t2161506\t14821177\t82.63836239575436\t1090\t1319\n",
      "Setting B\tB\tSelf Refine_Original System__run1_e0.05\tSelf Refine\tOriginal System\tentropy_threshold\t1\t0.05\t5\t2085416\t124299\t2209715\t17030892\t82.71417740712661\t1091\t1319\n",
      "Setting B\tB\tSelf Refine_Original System__run2_e0.05\tSelf Refine\tOriginal System\tentropy_threshold\t2\t0.05\t0\t4803154\t601979\t5405133\t5405133\t78.46853677028052\t1035\t1319\n",
      "Setting B\tB\tSelf Refine_Original System__run2_e0.05\tSelf Refine\tOriginal System\tentropy_threshold\t2\t0.05\t1\t2514595\t267311\t2781906\t8187039\t82.10765731614859\t1083\t1319\n",
      "Setting B\tB\tSelf Refine_Original System__run2_e0.05\tSelf Refine\tOriginal System\tentropy_threshold\t2\t0.05\t2\t2130236\t189292\t2319528\t10506567\t82.78999241849885\t1092\t1319\n",
      "Setting B\tB\tSelf Refine_Original System__run2_e0.05\tSelf Refine\tOriginal System\tentropy_threshold\t2\t0.05\t3\t2003008\t151791\t2154799\t12661366\t83.01743745261561\t1095\t1319\n",
      "Setting B\tB\tSelf Refine_Original System__run2_e0.05\tSelf Refine\tOriginal System\tentropy_threshold\t2\t0.05\t4\t2004267\t132318\t2136585\t14797951\t83.09325246398787\t1096\t1319\n",
      "Setting B\tB\tSelf Refine_Original System__run2_e0.05\tSelf Refine\tOriginal System\tentropy_threshold\t2\t0.05\t5\t2051943\t122535\t2174478\t16972429\t83.24488248673238\t1098\t1319\n",
      "Setting B\tB\tSelf Refine_Original System__run3_e0.05\tSelf Refine\tOriginal System\tentropy_threshold\t3\t0.05\t0\t4803046\t609812\t5412858\t5412858\t77.710386656558\t1025\t1319\n",
      "Setting B\tB\tSelf Refine_Original System__run3_e0.05\tSelf Refine\tOriginal System\tentropy_threshold\t3\t0.05\t1\t2547228\t275919\t2823147\t8236005\t81.27369219105383\t1072\t1319\n",
      "Setting B\tB\tSelf Refine_Original System__run3_e0.05\tSelf Refine\tOriginal System\tentropy_threshold\t3\t0.05\t2\t2279294\t200904\t2480198\t10716203\t82.56254738438211\t1089\t1319\n",
      "Setting B\tB\tSelf Refine_Original System__run3_e0.05\tSelf Refine\tOriginal System\tentropy_threshold\t3\t0.05\t3\t2198981\t166788\t2365769\t13081972\t83.09325246398787\t1096\t1319\n",
      "Setting B\tB\tSelf Refine_Original System__run3_e0.05\tSelf Refine\tOriginal System\tentropy_threshold\t3\t0.05\t4\t2190145\t144439\t2334584\t15416556\t83.32069749810462\t1099\t1319\n",
      "Setting B\tB\tSelf Refine_Original System__run3_e0.05\tSelf Refine\tOriginal System\tentropy_threshold\t3\t0.05\t5\t2199995\t131192\t2331187\t17747743\t83.39651250947688\t1100\t1319\n",
      "Setting B\tB\tSelf Refine_Original System__run4_e0.05\tSelf Refine\tOriginal System\tentropy_threshold\t4\t0.05\t0\t4802822\t603391\t5406213\t5406213\t78.16527672479151\t1031\t1319\n",
      "Setting B\tB\tSelf Refine_Original System__run4_e0.05\tSelf Refine\tOriginal System\tentropy_threshold\t4\t0.05\t1\t2449444\t261468\t2710912\t8117125\t81.27369219105383\t1072\t1319\n",
      "Setting B\tB\tSelf Refine_Original System__run4_e0.05\tSelf Refine\tOriginal System\tentropy_threshold\t4\t0.05\t2\t2106630\t190738\t2297368\t10414493\t82.33510235026536\t1086\t1319\n",
      "Setting B\tB\tSelf Refine_Original System__run4_e0.05\tSelf Refine\tOriginal System\tentropy_threshold\t4\t0.05\t3\t2062768\t159300\t2222068\t12636561\t82.71417740712661\t1091\t1319\n",
      "Setting B\tB\tSelf Refine_Original System__run4_e0.05\tSelf Refine\tOriginal System\tentropy_threshold\t4\t0.05\t4\t2118924\t144083\t2263007\t14899568\t82.78999241849885\t1092\t1319\n",
      "Setting B\tB\tSelf Refine_Original System__run4_e0.05\tSelf Refine\tOriginal System\tentropy_threshold\t4\t0.05\t5\t2177277\t134769\t2312046\t17211614\t82.86580742987113\t1093\t1319\n",
      "Setting B\tB\tSelf Refine_Original System__run5_e0.05\tSelf Refine\tOriginal System\tentropy_threshold\t5\t0.05\t0\t4802687\t603658\t5406345\t5406345\t77.40712661106899\t1021\t1319\n",
      "Setting B\tB\tSelf Refine_Original System__run5_e0.05\tSelf Refine\tOriginal System\tentropy_threshold\t5\t0.05\t1\t2574560\t275803\t2850363\t8256708\t81.12206216830933\t1070\t1319\n",
      "Setting B\tB\tSelf Refine_Original System__run5_e0.05\tSelf Refine\tOriginal System\tentropy_threshold\t5\t0.05\t2\t2195532\t195762\t2391294\t10648002\t81.88021228203183\t1080\t1319\n",
      "Setting B\tB\tSelf Refine_Original System__run5_e0.05\tSelf Refine\tOriginal System\tentropy_threshold\t5\t0.05\t3\t2080482\t157431\t2237913\t12885915\t82.33510235026536\t1086\t1319\n",
      "Setting B\tB\tSelf Refine_Original System__run5_e0.05\tSelf Refine\tOriginal System\tentropy_threshold\t5\t0.05\t4\t2078487\t138315\t2216802\t15102717\t82.48673237300986\t1088\t1319\n",
      "Setting B\tB\tSelf Refine_Original System__run5_e0.05\tSelf Refine\tOriginal System\tentropy_threshold\t5\t0.05\t5\t2144280\t122311\t2266591\t17369308\t82.48673237300986\t1088\t1319\n",
      "Setting B\tB\tSelf Refine_Original System__run6_e0.05\tSelf Refine\tOriginal System\tentropy_threshold\t6\t0.05\t0\t4802686\t600122\t5402808\t5402808\t77.48294162244125\t1022\t1319\n",
      "Setting B\tB\tSelf Refine_Original System__run6_e0.05\tSelf Refine\tOriginal System\tentropy_threshold\t6\t0.05\t1\t2579886\t273015\t2852901\t8255709\t80.51554207733132\t1062\t1319\n",
      "Setting B\tB\tSelf Refine_Original System__run6_e0.05\tSelf Refine\tOriginal System\tentropy_threshold\t6\t0.05\t2\t2205443\t197363\t2402806\t10658515\t81.27369219105383\t1072\t1319\n",
      "Setting B\tB\tSelf Refine_Original System__run6_e0.05\tSelf Refine\tOriginal System\tentropy_threshold\t6\t0.05\t3\t2079317\t157070\t2236387\t12894902\t81.57695223654284\t1076\t1319\n",
      "Setting B\tB\tSelf Refine_Original System__run6_e0.05\tSelf Refine\tOriginal System\tentropy_threshold\t6\t0.05\t4\t2095661\t137484\t2233145\t15128047\t81.72858225928734\t1078\t1319\n",
      "Setting B\tB\tSelf Refine_Original System__run6_e0.05\tSelf Refine\tOriginal System\tentropy_threshold\t6\t0.05\t5\t2170857\t129816\t2300673\t17428720\t81.80439727065959\t1079\t1319\n",
      "Setting B\tB\tSelf Refine_Original System__run7_e0.05\tSelf Refine\tOriginal System\tentropy_threshold\t7\t0.05\t0\t4803003\t603352\t5406355\t5406355\t77.8620166793025\t1027\t1319\n",
      "Setting B\tB\tSelf Refine_Original System__run7_e0.05\tSelf Refine\tOriginal System\tentropy_threshold\t7\t0.05\t1\t2480622\t264315\t2744937\t8151292\t80.97043214556481\t1068\t1319\n",
      "Setting B\tB\tSelf Refine_Original System__run7_e0.05\tSelf Refine\tOriginal System\tentropy_threshold\t7\t0.05\t2\t2218371\t197109\t2415480\t10566772\t82.2592873388931\t1085\t1319\n",
      "Setting B\tB\tSelf Refine_Original System__run7_e0.05\tSelf Refine\tOriginal System\tentropy_threshold\t7\t0.05\t3\t2071659\t157278\t2228937\t12795709\t82.78999241849885\t1092\t1319\n",
      "Setting B\tB\tSelf Refine_Original System__run7_e0.05\tSelf Refine\tOriginal System\tentropy_threshold\t7\t0.05\t4\t2089290\t138580\t2227870\t15023579\t82.86580742987113\t1093\t1319\n",
      "Setting B\tB\tSelf Refine_Original System__run7_e0.05\tSelf Refine\tOriginal System\tentropy_threshold\t7\t0.05\t5\t2110700\t121826\t2232526\t17256105\t82.86580742987113\t1093\t1319\n",
      "Setting B\tB\tSelf Refine_Original System__run8_e0.05\tSelf Refine\tOriginal System\tentropy_threshold\t8\t0.05\t0\t4802872\t608747\t5411619\t5411619\t77.48294162244125\t1022\t1319\n",
      "Setting B\tB\tSelf Refine_Original System__run8_e0.05\tSelf Refine\tOriginal System\tentropy_threshold\t8\t0.05\t1\t2609579\t276014\t2885593\t8297212\t80.81880212282032\t1066\t1319\n",
      "Setting B\tB\tSelf Refine_Original System__run8_e0.05\tSelf Refine\tOriginal System\tentropy_threshold\t8\t0.05\t2\t2301385\t202229\t2503614\t10800826\t81.57695223654284\t1076\t1319\n",
      "Setting B\tB\tSelf Refine_Original System__run8_e0.05\tSelf Refine\tOriginal System\tentropy_threshold\t8\t0.05\t3\t2215032\t164220\t2379252\t13180078\t81.80439727065959\t1079\t1319\n",
      "Setting B\tB\tSelf Refine_Original System__run8_e0.05\tSelf Refine\tOriginal System\tentropy_threshold\t8\t0.05\t4\t2196981\t145949\t2342930\t15523008\t82.03184230477635\t1082\t1319\n",
      "Setting B\tB\tSelf Refine_Original System__run8_e0.05\tSelf Refine\tOriginal System\tentropy_threshold\t8\t0.05\t5\t2262010\t130925\t2392935\t17915943\t82.03184230477635\t1082\t1319\n",
      "Setting B\tB\tSelf Refine_Original System__run9_e0.05\tSelf Refine\tOriginal System\tentropy_threshold\t9\t0.05\t0\t4803090\t602639\t5405729\t5405729\t78.013646702047\t1029\t1319\n",
      "Setting B\tB\tSelf Refine_Original System__run9_e0.05\tSelf Refine\tOriginal System\tentropy_threshold\t9\t0.05\t1\t2477342\t263843\t2741185\t8146914\t80.74298711144806\t1065\t1319\n",
      "Setting B\tB\tSelf Refine_Original System__run9_e0.05\tSelf Refine\tOriginal System\tentropy_threshold\t9\t0.05\t2\t2113334\t189187\t2302521\t10449435\t81.72858225928734\t1078\t1319\n",
      "Setting B\tB\tSelf Refine_Original System__run9_e0.05\tSelf Refine\tOriginal System\tentropy_threshold\t9\t0.05\t3\t2046479\t155186\t2201665\t12651100\t82.18347232752085\t1084\t1319\n",
      "Setting B\tB\tSelf Refine_Original System__run9_e0.05\tSelf Refine\tOriginal System\tentropy_threshold\t9\t0.05\t4\t2016645\t129635\t2146280\t14797380\t82.2592873388931\t1085\t1319\n",
      "Setting B\tB\tSelf Refine_Original System__run9_e0.05\tSelf Refine\tOriginal System\tentropy_threshold\t9\t0.05\t5\t2037778\t117673\t2155451\t16952831\t82.2592873388931\t1085\t1319\n",
      "\n"
     ]
    }
   ],
   "source": [
    "import pandas as pd\n",
    "from io import StringIO\n",
    "\n",
    "# Combine setting_c and setting_d into one DataFrame\n",
    "combined_df_2 = pd.concat([setting_a, setting_b], keys=['Setting A', 'Setting B']).reset_index(level=0).rename(columns={'level_0': 'Setting', 'Cumulative Total Tokens': 'Cumulative Total Token'})\n",
    "\n",
    "# Convert the DataFrame to TSV format as a string\n",
    "tsv_string = combined_df_2.to_csv(sep='\\t', index=False)\n",
    "\n",
    "# Print the TSV string\n",
    "print(tsv_string)\n"
   ]
  },
  {
   "cell_type": "code",
   "execution_count": null,
   "metadata": {},
   "outputs": [],
   "source": []
  }
 ],
 "metadata": {
  "kernelspec": {
   "display_name": "sglang",
   "language": "python",
   "name": "python3"
  },
  "language_info": {
   "codemirror_mode": {
    "name": "ipython",
    "version": 3
   },
   "file_extension": ".py",
   "mimetype": "text/x-python",
   "name": "python",
   "nbconvert_exporter": "python",
   "pygments_lexer": "ipython3",
   "version": "3.10.15"
  }
 },
 "nbformat": 4,
 "nbformat_minor": 2
}
