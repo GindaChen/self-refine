{
 "cells": [
  {
   "cell_type": "code",
   "execution_count": 1,
   "metadata": {},
   "outputs": [
    {
     "data": {
      "text/html": [
       "<div>\n",
       "<style scoped>\n",
       "    .dataframe tbody tr th:only-of-type {\n",
       "        vertical-align: middle;\n",
       "    }\n",
       "\n",
       "    .dataframe tbody tr th {\n",
       "        vertical-align: top;\n",
       "    }\n",
       "\n",
       "    .dataframe thead th {\n",
       "        text-align: right;\n",
       "    }\n",
       "</style>\n",
       "<table border=\"1\" class=\"dataframe\">\n",
       "  <thead>\n",
       "    <tr style=\"text-align: right;\">\n",
       "      <th></th>\n",
       "      <th>n_attempts</th>\n",
       "      <th>acronym</th>\n",
       "      <th>ground_truth</th>\n",
       "      <th>title</th>\n",
       "      <th>total_score</th>\n",
       "    </tr>\n",
       "  </thead>\n",
       "  <tbody>\n",
       "    <tr>\n",
       "      <th>0</th>\n",
       "      <td>0</td>\n",
       "      <td>AAAI</td>\n",
       "      <td>AAAI</td>\n",
       "      <td>Association for the Advancement of Artificial ...</td>\n",
       "      <td>20</td>\n",
       "    </tr>\n",
       "    <tr>\n",
       "      <th>1</th>\n",
       "      <td>1</td>\n",
       "      <td>AI</td>\n",
       "      <td>AAAI</td>\n",
       "      <td>Association for the Advancement of Artificial ...</td>\n",
       "      <td>24</td>\n",
       "    </tr>\n",
       "    <tr>\n",
       "      <th>2</th>\n",
       "      <td>2</td>\n",
       "      <td>AI</td>\n",
       "      <td>AAAI</td>\n",
       "      <td>Association for the Advancement of Artificial ...</td>\n",
       "      <td>25</td>\n",
       "    </tr>\n",
       "    <tr>\n",
       "      <th>3</th>\n",
       "      <td>3</td>\n",
       "      <td>AI4G</td>\n",
       "      <td>AAAI</td>\n",
       "      <td>AI for Good</td>\n",
       "      <td>25</td>\n",
       "    </tr>\n",
       "    <tr>\n",
       "      <th>4</th>\n",
       "      <td>4</td>\n",
       "      <td>WEF</td>\n",
       "      <td>AAAI</td>\n",
       "      <td>The World Economic Forum</td>\n",
       "      <td>23</td>\n",
       "    </tr>\n",
       "  </tbody>\n",
       "</table>\n",
       "</div>"
      ],
      "text/plain": [
       "   n_attempts acronym ground_truth  \\\n",
       "0           0    AAAI         AAAI   \n",
       "1           1      AI         AAAI   \n",
       "2           2      AI         AAAI   \n",
       "3           3    AI4G         AAAI   \n",
       "4           4     WEF         AAAI   \n",
       "\n",
       "                                               title  total_score  \n",
       "0  Association for the Advancement of Artificial ...           20  \n",
       "1  Association for the Advancement of Artificial ...           24  \n",
       "2  Association for the Advancement of Artificial ...           25  \n",
       "3                                        AI for Good           25  \n",
       "4                           The World Economic Forum           23  "
      ]
     },
     "execution_count": 1,
     "metadata": {},
     "output_type": "execute_result"
    }
   ],
   "source": [
    "import pandas as pd\n",
    "file_path = \"./baseline_16_attempt.csv\"\n",
    "df = pd.read_csv(file_path)\n",
    "df.head()"
   ]
  },
  {
   "cell_type": "code",
   "execution_count": 2,
   "metadata": {},
   "outputs": [
    {
     "name": "stdout",
     "output_type": "stream",
     "text": [
      "len(all_titles) = 241\n"
     ]
    }
   ],
   "source": [
    "all_titles = set(df['ground_truth'].unique())\n",
    "print(f\"{len(all_titles) = }\")\n",
    "remaining_titles = all_titles.copy()\n",
    "total_answers = len(all_titles)\n",
    "correct_answers = 0\n",
    "p = 1"
   ]
  },
  {
   "cell_type": "code",
   "execution_count": 28,
   "metadata": {},
   "outputs": [
    {
     "name": "stdout",
     "output_type": "stream",
     "text": [
      "[i = 0] 65.16%\n",
      "[i = 1] 28.28%\n",
      "[i = 2] 22.95%\n",
      "[i = 3] 18.03%\n",
      "[i = 4] 15.98%\n",
      "[i = 5] 11.89%\n",
      "[i = 6] 6.56%\n",
      "[i = 7] 7.38%\n",
      "[i = 8] 5.33%\n",
      "[i = 9] 2.05%\n",
      "[i = 10] 3.28%\n",
      "[i = 11] 3.69%\n",
      "[i = 12] 4.10%\n",
      "[i = 13] 1.23%\n",
      "[i = 14] 1.64%\n",
      "[i = 15] 3.69%\n"
     ]
    }
   ],
   "source": [
    "for i in range(16):\n",
    "    a = df[df['n_attempts'] == i]\n",
    "    print(f\"[{i = }] {((a['acronym'] == a['ground_truth']).sum() / len(a) * 100 ):.2f}%\")\n"
   ]
  },
  {
   "cell_type": "code",
   "execution_count": 53,
   "metadata": {},
   "outputs": [
    {
     "name": "stdout",
     "output_type": "stream",
     "text": [
      "Pass@K original dataset\n",
      "[Pass@0] 65.56%\n",
      "[Pass@1] 68.88%\n",
      "[Pass@2] 71.37%\n",
      "[Pass@3] 73.03%\n",
      "[Pass@4] 75.10%\n",
      "[Pass@5] 75.10%\n",
      "[Pass@6] 75.52%\n",
      "[Pass@7] 75.52%\n",
      "[Pass@8] 75.93%\n",
      "[Pass@9] 75.93%\n",
      "[Pass@10] 75.93%\n",
      "[Pass@11] 76.35%\n",
      "[Pass@12] 76.35%\n",
      "[Pass@13] 76.35%\n",
      "[Pass@14] 76.35%\n",
      "[Pass@15] 76.35%\n"
     ]
    }
   ],
   "source": [
    "print(\"Pass@K original dataset\")\n",
    "for i in range(16):\n",
    "    a = df[df['n_attempts'] <= i].copy()\n",
    "    a['correct'] = a['acronym'] == a['ground_truth']\n",
    "    # group by ground_truth, calculate the sum of (acronym == ground_truth)\n",
    "    b = a.groupby('ground_truth')['correct'].sum()\n",
    "    c = (b >= 1).sum()\n",
    "    print(f\"[Pass@{i}] {(c/ len(all_titles) * 100):.2f}%\")\n",
    "\n"
   ]
  },
  {
   "cell_type": "code",
   "execution_count": 17,
   "metadata": {},
   "outputs": [
    {
     "data": {
      "text/plain": [
       "ground_truth\n",
       "AAAI       True\n",
       "AAAS       True\n",
       "AADAC      True\n",
       "AAFES      True\n",
       "AAODL     False\n",
       "          ...  \n",
       "WMANUS     True\n",
       "WOSM       True\n",
       "WRAIR      True\n",
       "WRT       False\n",
       "WSROC      True\n",
       "Name: correct, Length: 241, dtype: bool"
      ]
     },
     "execution_count": 17,
     "metadata": {},
     "output_type": "execute_result"
    }
   ],
   "source": []
  },
  {
   "cell_type": "code",
   "execution_count": null,
   "metadata": {},
   "outputs": [],
   "source": []
  },
  {
   "cell_type": "code",
   "execution_count": 8,
   "metadata": {},
   "outputs": [
    {
     "name": "stdout",
     "output_type": "stream",
     "text": [
      "Shape of results: (3615, 6)\n"
     ]
    },
    {
     "data": {
      "text/html": [
       "<div>\n",
       "<style scoped>\n",
       "    .dataframe tbody tr th:only-of-type {\n",
       "        vertical-align: middle;\n",
       "    }\n",
       "\n",
       "    .dataframe tbody tr th {\n",
       "        vertical-align: top;\n",
       "    }\n",
       "\n",
       "    .dataframe thead th {\n",
       "        text-align: right;\n",
       "    }\n",
       "</style>\n",
       "<table border=\"1\" class=\"dataframe\">\n",
       "  <thead>\n",
       "    <tr style=\"text-align: right;\">\n",
       "      <th></th>\n",
       "      <th>ground_truth</th>\n",
       "      <th>n_attempts</th>\n",
       "      <th>acronym</th>\n",
       "      <th>title</th>\n",
       "      <th>total_score</th>\n",
       "      <th>iteration</th>\n",
       "    </tr>\n",
       "  </thead>\n",
       "  <tbody>\n",
       "    <tr>\n",
       "      <th>0</th>\n",
       "      <td>AAAI</td>\n",
       "      <td>0</td>\n",
       "      <td>AAAI</td>\n",
       "      <td>Association for the Advancement of Artificial ...</td>\n",
       "      <td>20</td>\n",
       "      <td>1</td>\n",
       "    </tr>\n",
       "    <tr>\n",
       "      <th>0</th>\n",
       "      <td>AAAI</td>\n",
       "      <td>1</td>\n",
       "      <td>AI</td>\n",
       "      <td>Association for the Advancement of Artificial ...</td>\n",
       "      <td>24</td>\n",
       "      <td>2</td>\n",
       "    </tr>\n",
       "    <tr>\n",
       "      <th>0</th>\n",
       "      <td>AAAI</td>\n",
       "      <td>2</td>\n",
       "      <td>AI</td>\n",
       "      <td>Association for the Advancement of Artificial ...</td>\n",
       "      <td>25</td>\n",
       "      <td>3</td>\n",
       "    </tr>\n",
       "    <tr>\n",
       "      <th>0</th>\n",
       "      <td>AAAI</td>\n",
       "      <td>2</td>\n",
       "      <td>AI</td>\n",
       "      <td>Association for the Advancement of Artificial ...</td>\n",
       "      <td>25</td>\n",
       "      <td>4</td>\n",
       "    </tr>\n",
       "    <tr>\n",
       "      <th>0</th>\n",
       "      <td>AAAI</td>\n",
       "      <td>3</td>\n",
       "      <td>AI4G</td>\n",
       "      <td>AI for Good</td>\n",
       "      <td>25</td>\n",
       "      <td>5</td>\n",
       "    </tr>\n",
       "    <tr>\n",
       "      <th>...</th>\n",
       "      <td>...</td>\n",
       "      <td>...</td>\n",
       "      <td>...</td>\n",
       "      <td>...</td>\n",
       "      <td>...</td>\n",
       "      <td>...</td>\n",
       "    </tr>\n",
       "    <tr>\n",
       "      <th>240</th>\n",
       "      <td>WSROC</td>\n",
       "      <td>3</td>\n",
       "      <td>WSYROC</td>\n",
       "      <td>Western Sydney Regional Organisation of Councils</td>\n",
       "      <td>21</td>\n",
       "      <td>11</td>\n",
       "    </tr>\n",
       "    <tr>\n",
       "      <th>240</th>\n",
       "      <td>WSROC</td>\n",
       "      <td>3</td>\n",
       "      <td>WSYROC</td>\n",
       "      <td>Western Sydney Regional Organisation of Councils</td>\n",
       "      <td>21</td>\n",
       "      <td>12</td>\n",
       "    </tr>\n",
       "    <tr>\n",
       "      <th>240</th>\n",
       "      <td>WSROC</td>\n",
       "      <td>3</td>\n",
       "      <td>WSYROC</td>\n",
       "      <td>Western Sydney Regional Organisation of Councils</td>\n",
       "      <td>21</td>\n",
       "      <td>13</td>\n",
       "    </tr>\n",
       "    <tr>\n",
       "      <th>240</th>\n",
       "      <td>WSROC</td>\n",
       "      <td>3</td>\n",
       "      <td>WSYROC</td>\n",
       "      <td>Western Sydney Regional Organisation of Councils</td>\n",
       "      <td>21</td>\n",
       "      <td>14</td>\n",
       "    </tr>\n",
       "    <tr>\n",
       "      <th>240</th>\n",
       "      <td>WSROC</td>\n",
       "      <td>14</td>\n",
       "      <td>NIOT</td>\n",
       "      <td>A new and improved way to organize your thoughts</td>\n",
       "      <td>21</td>\n",
       "      <td>15</td>\n",
       "    </tr>\n",
       "  </tbody>\n",
       "</table>\n",
       "<p>3615 rows × 6 columns</p>\n",
       "</div>"
      ],
      "text/plain": [
       "    ground_truth  n_attempts acronym  \\\n",
       "0           AAAI           0    AAAI   \n",
       "0           AAAI           1      AI   \n",
       "0           AAAI           2      AI   \n",
       "0           AAAI           2      AI   \n",
       "0           AAAI           3    AI4G   \n",
       "..           ...         ...     ...   \n",
       "240        WSROC           3  WSYROC   \n",
       "240        WSROC           3  WSYROC   \n",
       "240        WSROC           3  WSYROC   \n",
       "240        WSROC           3  WSYROC   \n",
       "240        WSROC          14    NIOT   \n",
       "\n",
       "                                                 title  total_score  iteration  \n",
       "0    Association for the Advancement of Artificial ...           20          1  \n",
       "0    Association for the Advancement of Artificial ...           24          2  \n",
       "0    Association for the Advancement of Artificial ...           25          3  \n",
       "0    Association for the Advancement of Artificial ...           25          4  \n",
       "0                                          AI for Good           25          5  \n",
       "..                                                 ...          ...        ...  \n",
       "240   Western Sydney Regional Organisation of Councils           21         11  \n",
       "240   Western Sydney Regional Organisation of Councils           21         12  \n",
       "240   Western Sydney Regional Organisation of Councils           21         13  \n",
       "240   Western Sydney Regional Organisation of Councils           21         14  \n",
       "240   A new and improved way to organize your thoughts           21         15  \n",
       "\n",
       "[3615 rows x 6 columns]"
      ]
     },
     "execution_count": 8,
     "metadata": {},
     "output_type": "execute_result"
    }
   ],
   "source": [
    "# For each iteration, get the best previous attempt for each group\n",
    "df_with_best_prev = pd.DataFrame()\n",
    "for i in range(16):\n",
    "    # Get all previous attempts\n",
    "    prev_attempts = df[df['n_attempts'] < i].copy()\n",
    "    if not prev_attempts.empty:\n",
    "        # Group by everything except n_attempts and total_score\n",
    "        # Keep the row with highest total_score in each group\n",
    "        best_prev = prev_attempts.sort_values('total_score', ascending=False).groupby(\n",
    "            ['ground_truth'], \n",
    "            as_index=False\n",
    "        ).first()\n",
    "        best_prev['iteration'] = i\n",
    "        df_with_best_prev = pd.concat([df_with_best_prev, best_prev])\n",
    "\n",
    "print(f\"Shape of results: {df_with_best_prev.shape}\")\n",
    "df_with_best_prev = df_with_best_prev.sort_values(by=['ground_truth', 'iteration'], ascending=[True, True])\n",
    "df_with_best_prev\n",
    "\n"
   ]
  },
  {
   "cell_type": "code",
   "execution_count": null,
   "metadata": {},
   "outputs": [],
   "source": [
    "best_score = 0\n",
    "best_result = None\n",
    "best_score_iteration = 0\n",
    "\n",
    "llm_proposer = ... \n",
    "llm_feedback = ... # GPT-4\n",
    "\n",
    "for i in range(max_rounds):\n",
    "    acronym = gen(\"acronym\")\n",
    "    score = gen(\"feedback\", acronym)\n",
    "    ...\n",
    "    if score > best_score:\n",
    "        best_score = score\n",
    "        best_result = acronym\n",
    "        best_score_iteration = i\n",
    "    \n",
    "    if i > best_score_iteration + 3:\n",
    "        break\n",
    "\n",
    "print(best_result)"
   ]
  },
  {
   "cell_type": "code",
   "execution_count": null,
   "metadata": {},
   "outputs": [],
   "source": [
    "\"\"\"Intra-Program\"\"\"\n",
    "threa_shold = 0.1\n",
    "schedule_token = 64\n",
    "log_probs_history = []\n",
    "\n",
    "while True:\n",
    "    tokens, log_probs = gen(max_tokens=schedule_token, return_log_probs=True)\n",
    "    log_probs_history.extend(log_probs)\n",
    "    current_log_prob = ...\n",
    "    if current_log_prob < threa_shold:\n",
    "        break\n",
    "    pass\n"
   ]
  },
  {
   "cell_type": "code",
   "execution_count": null,
   "metadata": {},
   "outputs": [],
   "source": [
    "\"\"\"\n",
    "Intra-Job == Inter-Program: user don't have control over the job\n",
    "\n",
    "Job = [Program] --> one dataset\n",
    "Program = [Branch] / [Iteration] --> one row\n",
    "\n",
    "\n",
    "System pressure\n",
    "----\n",
    "Goodput = efficiency * accuracy\n",
    "\n",
    "Resource allocation\n",
    "- Rank different programs (within a job) based on the optimal goodput\n",
    "\n",
    "\n",
    "\"\"\""
   ]
  },
  {
   "cell_type": "code",
   "execution_count": null,
   "metadata": {},
   "outputs": [],
   "source": []
  },
  {
   "cell_type": "code",
   "execution_count": null,
   "metadata": {},
   "outputs": [],
   "source": []
  },
  {
   "cell_type": "code",
   "execution_count": null,
   "metadata": {},
   "outputs": [],
   "source": []
  },
  {
   "cell_type": "code",
   "execution_count": 51,
   "metadata": {},
   "outputs": [
    {
     "name": "stdout",
     "output_type": "stream",
     "text": [
      "[i = 0] 159 / 241 = 65.98%\n",
      "[i = 1] 159 / 241 = 65.98%\n",
      "[i = 2] 159 / 241 = 65.98%\n",
      "[i = 3] 159 / 241 = 65.98%\n",
      "[i = 4] 159 / 241 = 65.98%\n",
      "[i = 5] 159 / 241 = 65.98%\n",
      "[i = 6] 159 / 241 = 65.98%\n",
      "[i = 7] 159 / 241 = 65.98%\n",
      "[i = 8] 159 / 241 = 65.98%\n",
      "[i = 9] 159 / 241 = 65.98%\n",
      "[i = 10] 159 / 241 = 65.98%\n",
      "[i = 11] 159 / 241 = 65.98%\n",
      "[i = 12] 159 / 241 = 65.98%\n",
      "[i = 13] 159 / 241 = 65.98%\n",
      "[i = 14] 159 / 241 = 65.98%\n",
      "[i = 15] 159 / 241 = 65.98%\n"
     ]
    }
   ],
   "source": [
    "for i in range(16):\n",
    "    df_i = df[df['n_attempts'] == i]\n",
    "    df_1 = df_i.copy()\n",
    "    # Drop the rows where rows' title is not in remaining_titles\n",
    "    df_i = df_i[df_i['ground_truth'].isin(remaining_titles)]\n",
    "    # Get the top p percent of the rows in terms of total_score\n",
    "    df_i = df_i.sort_values(by='total_score', ascending=False).head(\n",
    "        int(len(df_i) * p)\n",
    "    )\n",
    "    # print(f\"[{i = }] {len(df_i) = }\")\n",
    "    # Update the remaining_titles\n",
    "    selected_titles = set(df_i['ground_truth'].unique())\n",
    "    remaining_titles = remaining_titles - set(selected_titles)\n",
    "    # Record the scores\n",
    "    num_correct_answers = (df_i['acronym'] == df_i['ground_truth']).sum()\n",
    "    correct_answers += num_correct_answers\n",
    "    print(f\"[{i = }] {correct_answers} / {total_answers} = {(100 * correct_answers / total_answers):.2f}%\")\n",
    "    i += 1\n",
    "\n",
    "# Pass@K original dataset"
   ]
  },
  {
   "cell_type": "code",
   "execution_count": 54,
   "metadata": {},
   "outputs": [],
   "source": []
  },
  {
   "cell_type": "code",
   "execution_count": null,
   "metadata": {},
   "outputs": [],
   "source": []
  },
  {
   "cell_type": "markdown",
   "metadata": {},
   "source": [
    "### Early Stopping with window"
   ]
  },
  {
   "cell_type": "code",
   "execution_count": 72,
   "metadata": {},
   "outputs": [],
   "source": [
    "def early_stopping_with_window(df: pd.DataFrame, window_size: int = 3):\n",
    "    last_length = len(df)\n",
    "    current_window = (0, window_size)\n",
    "    \n",
    "    while current_window[1] <= last_length:\n",
    "        # if for the previews window_size rows, the acronyms are the same, then stop\n",
    "        if df['acronym'].iloc[current_window[0]:current_window[1]].nunique() == 1:\n",
    "            break\n",
    "        current_window = (current_window[0] + 1, current_window[1] + 1)\n",
    "    else:\n",
    "        # Did not reach an agreement\n",
    "        return None, -1, -1, -1\n",
    "    stop_index = current_window[1]\n",
    "    value = df.iloc[stop_index - 1]['acronym']\n",
    "    score = df.iloc[stop_index - 1]['total_score']\n",
    "    ground_truth = df.iloc[stop_index - 1]['ground_truth']\n",
    "    return value, stop_index, score, ground_truth\n",
    "\n",
    "\n",
    "\n",
    "def early_stopping_with_history(df: pd.DataFrame, history_size: int = 3):\n",
    "    # major voting\n",
    "    i = history_size\n",
    "    import collections\n",
    "    most_common = collections.Counter(df['acronym'].iloc[:i]).most_common(1)[0]\n",
    "    if most_common[1] > i / 2:\n",
    "        return most_common[0], i, df.iloc[i - 1]['total_score'], df.iloc[i - 1]['ground_truth']\n",
    "    return None, -1, -1, -1\n",
    "\n"
   ]
  },
  {
   "cell_type": "code",
   "execution_count": 75,
   "metadata": {},
   "outputs": [
    {
     "name": "stdout",
     "output_type": "stream",
     "text": [
      "Early stopping with window\n",
      "[Window size = 3] [correct_answers = 41 / total_answers = 241] = 17.01%\n",
      "[Window size = 4] [correct_answers = 41 / total_answers = 241] = 17.01%\n",
      "[Window size = 5] [correct_answers = 41 / total_answers = 241] = 17.01%\n",
      "[Window size = 6] [correct_answers = 41 / total_answers = 241] = 17.01%\n",
      "[Window size = 7] [correct_answers = 41 / total_answers = 241] = 17.01%\n",
      "[Window size = 8] [correct_answers = 41 / total_answers = 241] = 17.01%\n",
      "[Window size = 9] [correct_answers = 41 / total_answers = 241] = 17.01%\n",
      "[Window size = 10] [correct_answers = 41 / total_answers = 241] = 17.01%\n",
      "[Window size = 11] [correct_answers = 41 / total_answers = 241] = 17.01%\n",
      "[Window size = 12] [correct_answers = 41 / total_answers = 241] = 17.01%\n",
      "[Window size = 13] [correct_answers = 41 / total_answers = 241] = 17.01%\n",
      "[Window size = 14] [correct_answers = 41 / total_answers = 241] = 17.01%\n",
      "[Window size = 15] [correct_answers = 41 / total_answers = 241] = 17.01%\n",
      "Early stopping with history major voting\n",
      "[History size = 3] [correct_answers = 79 / total_answers = 241] = 32.78%\n",
      "[History size = 5] [correct_answers = 79 / total_answers = 241] = 32.78%\n",
      "[History size = 7] [correct_answers = 79 / total_answers = 241] = 32.78%\n",
      "[History size = 9] [correct_answers = 79 / total_answers = 241] = 32.78%\n",
      "[History size = 11] [correct_answers = 79 / total_answers = 241] = 32.78%\n",
      "[History size = 13] [correct_answers = 79 / total_answers = 241] = 32.78%\n",
      "[History size = 15] [correct_answers = 79 / total_answers = 241] = 32.78%\n"
     ]
    }
   ],
   "source": [
    "\n",
    "print(\"Early stopping with window\")\n",
    "from functools import partial\n",
    "func = early_stopping_with_window\n",
    "for window_size in range(3, 16):\n",
    "    correct_answers = 0\n",
    "    for i in range(total_answers):\n",
    "        value, stop_index, score, ground_truth = early_stopping_with_window(\n",
    "            df[i*16:(i+1)*16],\n",
    "        )\n",
    "        if value == ground_truth:\n",
    "            correct_answers += 1\n",
    "    print(f\"[Window size = {window_size}] [{correct_answers = } / {total_answers = }] = {(100 * correct_answers / total_answers):.2f}%\")\n",
    "\n",
    "print(\"Early stopping with history major voting\")\n",
    "for history_size in range(3, 16, 2):\n",
    "    correct_answers = 0\n",
    "    for i in range(total_answers):\n",
    "        value, stop_index, score, ground_truth = early_stopping_with_history(\n",
    "            df[i*16:(i+1)*16],\n",
    "        )\n",
    "        if value == ground_truth:\n",
    "            correct_answers += 1\n",
    "    print(f\"[History size = {history_size}] [{correct_answers = } / {total_answers = }] = {(100 * correct_answers / total_answers):.2f}%\")\n"
   ]
  },
  {
   "cell_type": "code",
   "execution_count": 83,
   "metadata": {},
   "outputs": [],
   "source": [
    "import math\n",
    "from collections import defaultdict\n",
    "\n",
    "def entropy(Plist):\n",
    "    if len(Plist):\n",
    "        result = 0\n",
    "        for x in Plist:\n",
    "            result += (-x) * math.log(x, 2)\n",
    "        return result\n",
    "    else:\n",
    "        return 0\n",
    "\n",
    "def norm(Olist):\n",
    "    s = sum(Olist)\n",
    "    return [o / s for o in Olist]\n",
    "\n",
    "def count(Olist):\n",
    "    x_dict = defaultdict(lambda: 0.0)\n",
    "    for x in Olist:\n",
    "        x_dict[x] += 1\n",
    "    cc = [c for _,c in x_dict.items()]\n",
    "    #print(cc)\n",
    "    return cc\n",
    "\n",
    "# entropy(norm(count(ans_list)))"
   ]
  },
  {
   "cell_type": "code",
   "execution_count": 108,
   "metadata": {},
   "outputs": [
    {
     "name": "stdout",
     "output_type": "stream",
     "text": [
      "Early stopping with entropy early_exit_percent = 0.1\n",
      "[Iter = 15] 83 / 241 = 34.44%\n",
      "Early stopping with entropy early_exit_percent = 0.2\n",
      "[Iter = 15] 88 / 241 = 36.51%\n",
      "Early stopping with entropy early_exit_percent = 0.3\n",
      "[Iter = 15] 97 / 241 = 40.25%\n",
      "Early stopping with entropy early_exit_percent = 0.4\n",
      "[Iter = 15] 101 / 241 = 41.91%\n",
      "Early stopping with entropy early_exit_percent = 0.5\n",
      "[Iter = 15] 99 / 241 = 41.08%\n",
      "Early stopping with entropy early_exit_percent = 0.6\n",
      "[Iter = 15] 115 / 241 = 47.72%\n",
      "Early stopping with entropy early_exit_percent = 0.7\n",
      "[Iter = 15] 122 / 241 = 50.62%\n",
      "Early stopping with entropy early_exit_percent = 0.8\n",
      "[Iter = 15] 134 / 241 = 55.60%\n",
      "Early stopping with entropy early_exit_percent = 0.9\n",
      "[Iter = 15] 141 / 241 = 58.51%\n"
     ]
    }
   ],
   "source": [
    "import collections\n",
    "\n",
    "\n",
    "for early_exit_percent in [0.1, 0.2, 0.3, 0.4, 0.5, 0.6, 0.7, 0.8, 0.9]:\n",
    "    correct_answers = 0\n",
    "    early_exit_index = set()\n",
    "    print(f\"Early stopping with entropy {early_exit_percent = }\")\n",
    "    for iter in range(3, 16, 2):\n",
    "        \n",
    "        entropies = {}\n",
    "        for i in range(total_answers):\n",
    "            if i in early_exit_index:\n",
    "                continue\n",
    "            a = df[i*16: (i+1)*16]\n",
    "            b = a['acronym'].tolist()[:iter]\n",
    "            c = entropy(norm(count(b)))\n",
    "            entropies[i] = c\n",
    "        \n",
    "        # Find the top p percent of entropy and early exit\n",
    "        top_p_entropies = sorted(\n",
    "            entropies.items(), key=lambda x: x[1], reverse=False,\n",
    "        )[:int(len(entropies) * early_exit_percent)]\n",
    "        for k, v in top_p_entropies:\n",
    "            early_exit_index.add(k)\n",
    "            a = df[k*16: (k+1)*16]\n",
    "            ground_truth = a.iloc[0]['ground_truth']\n",
    "            b = a['acronym'].tolist()[:iter]\n",
    "            \n",
    "            # calculate correctness\n",
    "            most_common, most_common_count = collections.Counter(b).most_common(1)[0]\n",
    "            if most_common == ground_truth:\n",
    "                correct_answers += 1\n",
    "            # print(k, v, b, most_common, ground_truth)\n",
    "    \n",
    "    # Last iteration\n",
    "    for i in range(total_answers):\n",
    "        if i in early_exit_index:\n",
    "            continue\n",
    "        a = df[i*16: (i+1)*16]\n",
    "        ground_truth = a.iloc[0]['ground_truth']\n",
    "        b = a['acronym'].tolist()[:iter]\n",
    "        most_common, most_common_count = collections.Counter(b).most_common(1)[0]\n",
    "        if most_common == ground_truth:\n",
    "            correct_answers += 1\n",
    "\n",
    "    \n",
    "    print(f\"[Iter = {iter}] {correct_answers} / {total_answers} = {(100 * correct_answers / total_answers):.2f}%\")\n",
    "\n",
    "    \n",
    "\n"
   ]
  },
  {
   "cell_type": "code",
   "execution_count": 111,
   "metadata": {},
   "outputs": [
    {
     "name": "stdout",
     "output_type": "stream",
     "text": [
      "Early stopping with entropy early_exit_percent = 0.1 (Pass@entropy exit)\n",
      "[Iter = 15] 179 / 241 = 74.27%\n",
      "Early stopping with entropy early_exit_percent = 0.2 (Pass@entropy exit)\n",
      "[Iter = 15] 177 / 241 = 73.44%\n",
      "Early stopping with entropy early_exit_percent = 0.3 (Pass@entropy exit)\n",
      "[Iter = 15] 177 / 241 = 73.44%\n",
      "Early stopping with entropy early_exit_percent = 0.4 (Pass@entropy exit)\n",
      "[Iter = 15] 177 / 241 = 73.44%\n",
      "Early stopping with entropy early_exit_percent = 0.5 (Pass@entropy exit)\n",
      "[Iter = 15] 175 / 241 = 72.61%\n",
      "Early stopping with entropy early_exit_percent = 0.6 (Pass@entropy exit)\n",
      "[Iter = 15] 174 / 241 = 72.20%\n",
      "Early stopping with entropy early_exit_percent = 0.7 (Pass@entropy exit)\n",
      "[Iter = 15] 173 / 241 = 71.78%\n",
      "Early stopping with entropy early_exit_percent = 0.8 (Pass@entropy exit)\n",
      "[Iter = 15] 172 / 241 = 71.37%\n",
      "Early stopping with entropy early_exit_percent = 0.9 (Pass@entropy exit)\n",
      "[Iter = 15] 171 / 241 = 70.95%\n"
     ]
    }
   ],
   "source": [
    "import collections\n",
    "\n",
    "\n",
    "for early_exit_percent in [0.1, 0.2, 0.3, 0.4, 0.5, 0.6, 0.7, 0.8, 0.9]:\n",
    "    correct_answers = 0\n",
    "    early_exit_index = set()\n",
    "    print(f\"Early stopping with entropy {early_exit_percent = } (Pass@entropy exit)\")\n",
    "    for iter in range(3, 16):\n",
    "        \n",
    "        entropies = {}\n",
    "        for i in range(total_answers):\n",
    "            if i in early_exit_index:\n",
    "                continue\n",
    "            a = df[i*16: (i+1)*16]\n",
    "            b = a['acronym'].tolist()[:iter]\n",
    "            c = entropy(norm(count(b)))\n",
    "            entropies[i] = c\n",
    "        \n",
    "        # Find the top p percent of entropy and early exit\n",
    "        top_p_entropies = sorted(\n",
    "            entropies.items(), key=lambda x: x[1], reverse=False,\n",
    "        )[:int(len(entropies) * early_exit_percent)]\n",
    "        for k, v in top_p_entropies:\n",
    "            early_exit_index.add(k)\n",
    "            a = df[k*16: (k+1)*16]\n",
    "            ground_truth = a.iloc[0]['ground_truth']\n",
    "            b = a['acronym'].tolist()[:iter]\n",
    "            \n",
    "            # calculate correctness pass@k\n",
    "            if ground_truth in b:\n",
    "                correct_answers += 1\n",
    "    \n",
    "    # Last iteration\n",
    "    for i in range(total_answers):\n",
    "        if i in early_exit_index:\n",
    "            continue\n",
    "        a = df[i*16: (i+1)*16]\n",
    "        ground_truth = a.iloc[0]['ground_truth']\n",
    "        b = a['acronym'].tolist()[:iter]\n",
    "        if ground_truth in b:\n",
    "            correct_answers += 1\n",
    "\n",
    "    \n",
    "    print(f\"[Iter = {iter}] {correct_answers} / {total_answers} = {(100 * correct_answers / total_answers):.2f}%\")\n",
    "\n"
   ]
  },
  {
   "cell_type": "code",
   "execution_count": null,
   "metadata": {},
   "outputs": [],
   "source": []
  },
  {
   "cell_type": "markdown",
   "metadata": {},
   "source": [
    "## Length-norm Entropy "
   ]
  },
  {
   "cell_type": "code",
   "execution_count": 58,
   "metadata": {},
   "outputs": [
    {
     "name": "stdout",
     "output_type": "stream",
     "text": [
      "9\n"
     ]
    }
   ],
   "source": [
    "import pandas as pd\n",
    "# file = 'length_norm_entropy_7.csv'\n",
    "file = 'length_norm_entropy_9.csv'\n",
    "ldf = pd.read_csv(file)\n",
    "step_size = ldf['n_attempts'].nunique()\n",
    "ldf['before_feedback_entropy'] = - ldf['before_feedback_entropy']\n",
    "ldf['after_feedback_entropy'] = - ldf['after_feedback_entropy']\n",
    "ldf[\"is_correct\"] = ldf[\"acronym\"] == ldf[\"ground_truth\"]\n",
    "ldf.head(step_size + 1)\n",
    "print(step_size)\n"
   ]
  },
  {
   "cell_type": "code",
   "execution_count": 43,
   "metadata": {},
   "outputs": [],
   "source": [
    "correct_dfs = ldf[\n",
    "    ldf['acronym'] == ldf['ground_truth']\n",
    "]\n",
    "wrong_dfs = ldf[\n",
    "    ldf['acronym'] != ldf['ground_truth']\n",
    "]"
   ]
  },
  {
   "cell_type": "code",
   "execution_count": 44,
   "metadata": {},
   "outputs": [
    {
     "data": {
      "text/plain": [
       "(0.06410760494513973, 0.005655619435031087)"
      ]
     },
     "execution_count": 44,
     "metadata": {},
     "output_type": "execute_result"
    }
   ],
   "source": [
    "correct_dfs['before_feedback_entropy'].mean(), correct_dfs['before_feedback_entropy'].var()"
   ]
  },
  {
   "cell_type": "code",
   "execution_count": 45,
   "metadata": {},
   "outputs": [
    {
     "data": {
      "text/plain": [
       "(0.10985987584587355, 0.013755141895207651)"
      ]
     },
     "execution_count": 45,
     "metadata": {},
     "output_type": "execute_result"
    }
   ],
   "source": [
    "wrong_dfs['before_feedback_entropy'].mean(), wrong_dfs['before_feedback_entropy'].var()"
   ]
  },
  {
   "cell_type": "code",
   "execution_count": 48,
   "metadata": {},
   "outputs": [
    {
     "data": {
      "image/png": "[encoded data removed]",
      "text/plain": [
       "<Figure size 640x480 with 1 Axes>"
      ]
     },
     "metadata": {},
     "output_type": "display_data"
    }
   ],
   "source": [
    "entropy_key_name = \"before_feedback_entropy\"\n",
    "# entropy_key_name = \"after_feedback_entropy\"\n",
    "import matplotlib.pyplot as plt\n",
    "plt.hist(correct_dfs[entropy_key_name], bins=100, alpha=0.5, label='Correct', density=True)\n",
    "plt.hist(wrong_dfs[entropy_key_name], bins=100, alpha=0.5, label='Wrong', density=True)\n",
    "plt.legend()\n",
    "plt.show()"
   ]
  },
  {
   "cell_type": "code",
   "execution_count": 49,
   "metadata": {},
   "outputs": [],
   "source": [
    "def stop_early_entropy(\n",
    "    df: pd.DataFrame, \n",
    "    early_exit_threshold: float = 0.005,\n",
    "    window_size: int = 3,\n",
    "):\n",
    "    history_entropy = []\n",
    "    ground_truth = df.iloc[0]['ground_truth']\n",
    "    current_entropy = 0\n",
    "    is_correct = False\n",
    "    best_entropy = float('inf')\n",
    "    best_entropy_index = -1\n",
    "    for i in range(len(df)):\n",
    "        # take the ith row\n",
    "        current_row = df.iloc[i]\n",
    "        current_entropy = current_row['before_feedback_entropy']\n",
    "        history_entropy.append(current_entropy)\n",
    "        \n",
    "        if current_entropy < best_entropy:\n",
    "            best_entropy = current_entropy\n",
    "            best_entropy_index = i\n",
    "            is_correct = current_row['is_correct']\n",
    "        if i > best_entropy_index + window_size:\n",
    "            break\n",
    "    return best_entropy_index, best_entropy, is_correct, ground_truth\n"
   ]
  },
  {
   "cell_type": "code",
   "execution_count": 57,
   "metadata": {},
   "outputs": [
    {
     "data": {
      "image/png": "[encoded data removed]",
      "text/plain": [
       "<Figure size 1000x800 with 2 Axes>"
      ]
     },
     "metadata": {},
     "output_type": "display_data"
    }
   ],
   "source": [
    "import numpy as np\n",
    "import seaborn as sns\n",
    "import matplotlib.pyplot as plt\n",
    "\n",
    "step_size = 7\n",
    "num_elements = len(ldf) // step_size\n",
    "\n",
    "# Create lists for the axes\n",
    "exit_thresholds = [0.001 * i for i in range(1, 10, 1)]\n",
    "window_sizes = [1, 2, 3, 4, 5, 6, 7]\n",
    "\n",
    "# Initialize results matrix\n",
    "results = np.zeros((len(exit_thresholds), len(window_sizes)))\n",
    "\n",
    "# Collect data\n",
    "for i, early_exit_threshold in enumerate(exit_thresholds):\n",
    "    for j, window_size in enumerate(window_sizes):\n",
    "        correct_answers = 0\n",
    "        for k in range(num_elements):\n",
    "            df = ldf[k*step_size: (k+1)*step_size]\n",
    "            best_entropy_index, best_entropy, is_correct, ground_truth = stop_early_entropy(\n",
    "                df,\n",
    "                early_exit_threshold=early_exit_threshold,\n",
    "                window_size=window_size,\n",
    "            )\n",
    "            if is_correct:\n",
    "                correct_answers += 1\n",
    "        \n",
    "        # Store accuracy percentage in results matrix\n",
    "        results[i,j] = 100 * correct_answers / num_elements\n",
    "\n",
    "# Create heatmap\n",
    "plt.figure(figsize=(10, 8))\n",
    "sns.heatmap(results, \n",
    "            xticklabels=window_sizes,\n",
    "            yticklabels=[f'{t:.3f}' for t in exit_thresholds],\n",
    "            annot=True,\n",
    "            fmt='.1f',\n",
    "            cmap='YlOrRd')\n",
    "\n",
    "plt.xlabel('Window Size')\n",
    "plt.ylabel('Exit Threshold')\n",
    "plt.title('Accuracy (%) by Exit Threshold and Window Size')\n",
    "plt.show()\n"
   ]
  },
  {
   "cell_type": "code",
   "execution_count": null,
   "metadata": {},
   "outputs": [],
   "source": []
  },
  {
   "cell_type": "code",
   "execution_count": null,
   "metadata": {},
   "outputs": [],
   "source": []
  },
  {
   "cell_type": "code",
   "execution_count": null,
   "metadata": {},
   "outputs": [],
   "source": []
  },
  {
   "cell_type": "code",
   "execution_count": 41,
   "metadata": {},
   "outputs": [
    {
     "name": "stdout",
     "output_type": "stream",
     "text": [
      "[k = 1] correct_answers = 15 / 20 = 20 = 75.00%\n",
      "[k = 2] correct_answers = 17 / 20 = 20 = 85.00%\n",
      "[k = 3] correct_answers = 17 / 20 = 20 = 85.00%\n",
      "[k = 4] correct_answers = 17 / 20 = 20 = 85.00%\n",
      "[k = 5] correct_answers = 17 / 20 = 20 = 85.00%\n",
      "[k = 6] correct_answers = 17 / 20 = 20 = 85.00%\n",
      "[k = 7] correct_answers = 17 / 20 = 20 = 85.00%\n",
      "[k = 8] correct_answers = 17 / 20 = 20 = 85.00%\n",
      "[k = 9] correct_answers = 17 / 20 = 20 = 85.00%\n",
      "[k = 10] correct_answers = 17 / 20 = 20 = 85.00%\n",
      "[k = 11] correct_answers = 17 / 20 = 20 = 85.00%\n",
      "[k = 12] correct_answers = 17 / 20 = 20 = 85.00%\n",
      "[k = 13] correct_answers = 17 / 20 = 20 = 85.00%\n",
      "[k = 14] correct_answers = 17 / 20 = 20 = 85.00%\n",
      "[k = 15] correct_answers = 17 / 20 = 20 = 85.00%\n"
     ]
    }
   ],
   "source": [
    "# Pass@k\n",
    "def pass_at_k(df: pd.DataFrame, k: int):\n",
    "    a = df[:k]\n",
    "    return (a['acronym'] == a['ground_truth']).sum() >= 1\n",
    "\n",
    "\n",
    "step_size = 7\n",
    "for k in range(1, 16):\n",
    "    correct_answers = 0\n",
    "    for i in range(20):\n",
    "        df = ldf[i*step_size: (i+1)*step_size]\n",
    "        if pass_at_k(df, k):\n",
    "            correct_answers += 1\n",
    "    print(f\"[k = {k}] {correct_answers = } / {20 = } = {(100 * correct_answers / 20):.2f}%\")\n",
    "\n"
   ]
  },
  {
   "cell_type": "code",
   "execution_count": null,
   "metadata": {},
   "outputs": [],
   "source": []
  },
  {
   "cell_type": "code",
   "execution_count": 77,
   "metadata": {},
   "outputs": [],
   "source": [
    "# # Plot the distribution of the before_feedback_entropy of correct and wrong histograms\n",
    "# import matplotlib.pyplot as plt\n",
    "# plt.hist(correct_dfs['before_feedback_entropy'], bins=100, alpha=0.5, label='Correct', density=True)\n",
    "# plt.hist(wrong_dfs['before_feedback_entropy'], bins=100, alpha=0.5, label='Wrong', density=True)\n",
    "# plt.legend()\n",
    "# plt.show()"
   ]
  },
  {
   "cell_type": "code",
   "execution_count": null,
   "metadata": {},
   "outputs": [],
   "source": []
  },
  {
   "cell_type": "code",
   "execution_count": null,
   "metadata": {},
   "outputs": [],
   "source": []
  },
  {
   "cell_type": "code",
   "execution_count": null,
   "metadata": {},
   "outputs": [],
   "source": []
  },
  {
   "cell_type": "code",
   "execution_count": null,
   "metadata": {},
   "outputs": [],
   "source": []
  },
  {
   "cell_type": "code",
   "execution_count": null,
   "metadata": {},
   "outputs": [],
   "source": []
  },
  {
   "cell_type": "code",
   "execution_count": null,
   "metadata": {},
   "outputs": [],
   "source": []
  },
  {
   "cell_type": "markdown",
   "metadata": {},
   "source": []
  }
 ],
 "metadata": {
  "kernelspec": {
   "display_name": "sglang",
   "language": "python",
   "name": "python3"
  },
  "language_info": {
   "codemirror_mode": {
    "name": "ipython",
    "version": 3
   },
   "file_extension": ".py",
   "mimetype": "text/x-python",
   "name": "python",
   "nbconvert_exporter": "python",
   "pygments_lexer": "ipython3",
   "version": "3.10.15"
  }
 },
 "nbformat": 4,
 "nbformat_minor": 2
}
