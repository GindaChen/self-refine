{
 "cells": [
  {
   "cell_type": "code",
   "execution_count": 10,
   "metadata": {},
   "outputs": [],
   "source": [
    "import pandas as pd\n",
    "file = \"length_norm_entropy_9.short.csv\"\n",
    "original_df = pd.read_csv(file)\n",
    "step_size = original_df['n_attempts'].max()\n",
    "# original_df.drop(['Unnamed: 0'], inplace=True)\n",
    "original_df['is_correct'] = (original_df['acronym'] == original_df['ground_truth'])\n",
    "original_df['before_feedback_entropy'] = -original_df['before_feedback_entropy']\n",
    "original_df['after_feedback_entropy'] = -original_df['after_feedback_entropy']\n",
    "\n"
   ]
  },
  {
   "cell_type": "code",
   "execution_count": 81,
   "metadata": {},
   "outputs": [
    {
     "name": "stdout",
     "output_type": "stream",
     "text": [
      "0 0.6586345381526104 0.6666666666666666\n",
      "1 0.04417670682730924 0.7113821138211383\n",
      "2 0.012048192771084338 0.7235772357723578\n",
      "3 0.004016064257028112 0.7276422764227642\n",
      "4 0.012048192771084338 0.7398373983739838\n",
      "5 0.008032128514056224 0.7479674796747967\n",
      "6 0.0 0.7479674796747967\n",
      "7 0.0 0.7479674796747967\n"
     ]
    }
   ],
   "source": [
    "already_correct = set()\n",
    "cumulative_correct = 0\n",
    "N = original_df['ground_truth'].nunique()\n",
    "for iter in range(step_size):\n",
    "    initial_df = original_df[original_df['n_attempts'] == iter]\n",
    "    a = (initial_df['acronym'] == initial_df['ground_truth'])\n",
    "    a = a & ~initial_df['ground_truth'].isin(already_correct)\n",
    "    b = a.sum()\n",
    "    c = len(a)\n",
    "    already_correct.update(initial_df[a]['ground_truth'])\n",
    "    cumulative_correct += b\n",
    "    print(iter, b / c, cumulative_correct / N)\n"
   ]
  },
  {
   "cell_type": "code",
   "execution_count": 29,
   "metadata": {},
   "outputs": [],
   "source": [
    "def pass_at_k(df):\n",
    "    k = 0\n",
    "    for i, item in df.iterrows():\n",
    "        if item['is_correct']:\n",
    "            return k\n",
    "        k += 1\n",
    "    return float('inf')\n",
    "\n",
    "def chunk_df(df):\n",
    "    \"\"\"Yields groups of dataframe rows that share the same ground truth value\"\"\"\n",
    "    for ground_truth, group in df.groupby('ground_truth'):\n",
    "        yield ground_truth, group\n",
    "\n",
    "\n"
   ]
  },
  {
   "cell_type": "code",
   "execution_count": 34,
   "metadata": {},
   "outputs": [],
   "source": [
    "pass_at_k_mapping = {}\n",
    "for ground_truth, chunk in chunk_df(original_df):\n",
    "    # Get pass at k for each chunk\n",
    "    pass_at_k_mapping[ground_truth] = pass_at_k(chunk)\n",
    "\n",
    "original_df['pass_at_k'] = original_df['ground_truth'].map(pass_at_k_mapping)\n"
   ]
  },
  {
   "cell_type": "code",
   "execution_count": 73,
   "metadata": {},
   "outputs": [
    {
     "data": {
      "image/png": "[encoded data removed]",
      "text/plain": [
       "<Figure size 640x480 with 1 Axes>"
      ]
     },
     "metadata": {},
     "output_type": "display_data"
    }
   ],
   "source": [
    "# pass_at_k_mapping\n",
    "# plot the distribution of pass at k\n",
    "import matplotlib.pyplot as plt\n",
    "import numpy as np\n",
    "\n",
    "pass_at_k_mapping_ = pass_at_k_mapping.copy()\n",
    "# change all inf to (n_steps + 1)\n",
    "pass_at_k_mapping_ = {\n",
    "    k: v if v < 100 else step_size + 1\n",
    "    for k, v in pass_at_k_mapping_.items()\n",
    "}\n",
    "# Create histogram and get the values\n",
    "counts, bins, patches = plt.hist(\n",
    "    list(pass_at_k_mapping_.values()), \n",
    "    bins=range(step_size + 2), \n",
    "    density=True,\n",
    ")\n",
    "\n",
    "# Add value labels on top of each bar\n",
    "for i in range(len(counts)):\n",
    "    plt.text(bins[i], counts[i], f'{(counts[i] * 100):.1f}%', ha='left', va='bottom')\n",
    "\n",
    "plt.xlabel('Pass at k')\n",
    "plt.ylabel('Density') \n",
    "plt.title('Distribution of Pass at k Values')\n",
    "plt.show()"
   ]
  },
  {
   "cell_type": "code",
   "execution_count": null,
   "metadata": {},
   "outputs": [],
   "source": []
  },
  {
   "cell_type": "code",
   "execution_count": 88,
   "metadata": {},
   "outputs": [
    {
     "name": "stdout",
     "output_type": "stream",
     "text": [
      "0 47.56% len(correct_set) = 117 len(wrong_set) = 7 len(completed_set) = 124 N = 246\n",
      "1 61.38% len(correct_set) = 151 len(wrong_set) = 35 len(completed_set) = 186 N = 246\n",
      "2 65.45% len(correct_set) = 161 len(wrong_set) = 56 len(completed_set) = 217 N = 246\n",
      "3 68.29% len(correct_set) = 168 len(wrong_set) = 64 len(completed_set) = 232 N = 246\n",
      "4 69.51% len(correct_set) = 171 len(wrong_set) = 69 len(completed_set) = 240 N = 246\n",
      "5 69.92% len(correct_set) = 172 len(wrong_set) = 72 len(completed_set) = 244 N = 246\n",
      "6 70.33% len(correct_set) = 173 len(wrong_set) = 73 len(completed_set) = 246 N = 246\n"
     ]
    }
   ],
   "source": [
    "\n",
    "correct_set = set()\n",
    "wrong_set = set()\n",
    "ran_rounds = {}\n",
    "completed_set = set()\n",
    "entropy_threshold = 0.003\n",
    "N = original_df['ground_truth'].nunique()\n",
    "p = 0.5\n",
    "\n",
    "max_num_iters = step_size - 1\n",
    "for iter in range(max_num_iters):\n",
    "    entropy_this_iter = {}\n",
    "    correct_this_iter = {}\n",
    "    df = original_df[original_df['n_attempts'] == iter]\n",
    "    for i, item in df.iterrows():\n",
    "        entropy = item['before_feedback_entropy']\n",
    "        ground_truth = item['ground_truth']\n",
    "        is_correct = item['pass_at_k'] <= iter\n",
    "        if ground_truth in completed_set:\n",
    "            continue\n",
    "        entropy_this_iter[ground_truth] = entropy\n",
    "        correct_this_iter[ground_truth] = is_correct\n",
    "    \n",
    "    if not entropy_this_iter:\n",
    "        break\n",
    "    \n",
    "    entropy_this_iter = sorted(\n",
    "        entropy_this_iter.items(),\n",
    "        key=lambda x: x[1], \n",
    "        reverse=False\n",
    "    )\n",
    "    # Select the top p percentile to terminate, and further select the \n",
    "    upper_bound = int(p * len(entropy_this_iter))\n",
    "    if iter == step_size - 1:\n",
    "        upper_bound = len(entropy_this_iter)\n",
    "\n",
    "    for i, (ground_truth, entropy) in enumerate(entropy_this_iter):\n",
    "        if i <= upper_bound or entropy < entropy_threshold:\n",
    "            is_correct = correct_this_iter[ground_truth]\n",
    "            # print(ground_truth, is_correct)\n",
    "            if is_correct:\n",
    "                correct_set.add(ground_truth)\n",
    "            else:\n",
    "                wrong_set.add(ground_truth)\n",
    "            completed_set.add(ground_truth)\n",
    "            ran_rounds[ground_truth] = iter + 1\n",
    "    \n",
    "    print(\n",
    "        iter, \n",
    "        f\"{(100 * len(correct_set) / N):.2f}%, \",\n",
    "        f\"{len(correct_set) = }, \",\n",
    "        f\"{len(wrong_set) = }, \",\n",
    "        f\"{len(completed_set) = }, \",\n",
    "        f\"{N = }\", \n",
    "    )\n",
    "\n"
   ]
  },
  {
   "cell_type": "code",
   "execution_count": null,
   "metadata": {},
   "outputs": [],
   "source": []
  }
 ],
 "metadata": {
  "kernelspec": {
   "display_name": "sglang",
   "language": "python",
   "name": "python3"
  },
  "language_info": {
   "codemirror_mode": {
    "name": "ipython",
    "version": 3
   },
   "file_extension": ".py",
   "mimetype": "text/x-python",
   "name": "python",
   "nbconvert_exporter": "python",
   "pygments_lexer": "ipython3",
   "version": "3.10.15"
  }
 },
 "nbformat": 4,
 "nbformat_minor": 2
}
